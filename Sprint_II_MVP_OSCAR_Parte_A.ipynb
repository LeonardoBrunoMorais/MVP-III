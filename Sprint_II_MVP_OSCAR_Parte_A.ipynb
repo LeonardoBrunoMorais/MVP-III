{
  "nbformat": 4,
  "nbformat_minor": 0,
  "metadata": {
    "colab": {
      "provenance": [],
      "include_colab_link": true
    },
    "kernelspec": {
      "name": "python3",
      "display_name": "Python 3"
    },
    "language_info": {
      "name": "python"
    }
  },
  "cells": [
    {
      "cell_type": "markdown",
      "metadata": {
        "id": "view-in-github",
        "colab_type": "text"
      },
      "source": [
        "<a href=\"https://colab.research.google.com/github/LeonardoBrunoMorais/MVP-Sprint-II/blob/main/Sprint_II_MVP_OSCAR_Parte_A.ipynb\" target=\"_parent\"><img src=\"https://colab.research.google.com/assets/colab-badge.svg\" alt=\"Open In Colab\"/></a>"
      ]
    },
    {
      "cell_type": "markdown",
      "source": [
        "# MVP Sprint II - Machine Learning & Analytics - Parte A\n",
        "\n",
        "## Leonardo Bruno de Morais\n",
        "\n",
        "### MVP de Previsão do Ganhadores do OSCAR com base nas avaliações dos filmes."
      ],
      "metadata": {
        "id": "Ab6sWhTnWSnE"
      }
    },
    {
      "cell_type": "markdown",
      "source": [
        "## 1. Definição do Problema"
      ],
      "metadata": {
        "id": "dhcGO0I0Wm8H"
      }
    },
    {
      "cell_type": "markdown",
      "source": [
        "\n",
        "\n",
        "\n",
        "\n",
        "\n",
        "\n",
        "Os datasets utilizados neste projeto serão o **IMDb**, proveniente originalmente dos dados extraídos do **Kaggle** e disponível no dataset de **Kurt Nakasato**. Foram utilizados os dados de pré-processamento (antes de qualquer tratamento) disponíveis no site: https://www.kaggle.com/datasets/kurtnakasato/imdb-100000-moviestvshows?resource=download.\n",
        "\n",
        "Além do DataSet **OSCAR** de Raphael Fontes de pré-processamento (antes de qualquer tratamento) disponílvel no site: https://www.kaggle.com/datasets/unanimad/the-oscar-award.\n",
        "\n",
        "O objetivo desse projeto é prever o ganhador de uma categoria do OSCAR com base no número de visualizações (avaliações).  Esses datasets contém os dados do IMDB 100.000+ Filmes/Programas de TV com cerca de 72.910 filmes que tiveram pelo menos 100 votos e a preimiação do OSCAR de 1927 a 2023.\n",
        "\n",
        "Como um modelo de aprendizado supervisionado, o datasets apresentam diversos atributos relacionados a votação e notas dos filmes na plataforma. Iremos considerar a variável Vencedor (winner) como uma variável classificatória **(true: 1, false: 0)**. As variáveis ​​preditoras incluem a aprovação dos filmes, considerando o somatório do número de visualizações de acordo com a avaliação dos usuários das plataforma.\n",
        "\n",
        "Para mais detalhes sobre este dataset, consulte: https://www.kaggle.com/datasets/kurtnakasato/imdb-100000-moviestvshows?resource=download\n",
        "\n",
        "https://www.kaggle.com/datasets/unanimad/the-oscar-award\n",
        "\n",
        "\n",
        "\n",
        "**Informações sobre os atributos do IMDb:**\n",
        "\n",
        "**IMDb Filmes**\n",
        "\n",
        "1. **dataId** - Chave primária\n",
        "2. **contentType** - Tipo de conteúdo - Filme ou TvShow\n",
        "3. **title** - Título do Conteúdo\n",
        "4. **length** - Duração do conteúdo em minutos\n",
        "5. **releaseYear** - Ano do lançamento\n",
        "6. **endYear** - Fim de ano se programa de TV\n",
        "7. **votes** - Quantidade de pessoas que deixaram uma classificação\n",
        "8. **rating** - A classificação média\n",
        "9. **gross** - Ganho bruto\n",
        "10. **certificate** - Classificação do certificado\n",
        "11. **description** - Descrição resumido do Filme ou TvShow\n",
        "\n",
        "**IMDb Genêro**\n",
        "\n",
        "1. **dataId** - Chave primária\n",
        "2. **genre** - Gênero listado no IMDb\n",
        "\n",
        "**IMDb Região**\n",
        "\n",
        "1. **dataId** - Chave primária\n",
        "2. **region** - Regiões listadas no IMDb\n",
        "\n",
        "**Informações sobre os atributos do OSCAR:**\n",
        "1. **year_film** - Filme exibido no ano\n",
        "2. **year_ceremony** - Cerimônia aconteceu no ano\n",
        "3. **ceremony** - Número de cerimônias\n",
        "4. **category** - Nomeação ou indicação corrente\n",
        "5. **name** - Nome da nomeação ou indicação\n",
        "6. **film** - Título do filme\n",
        "7. **winner** - Verdadeiro se vencedor (true: 1, false: 0)"
      ],
      "metadata": {
        "id": "6rVAwVLRW4WX"
      }
    },
    {
      "cell_type": "markdown",
      "source": [
        "## 2. Carga de Dados"
      ],
      "metadata": {
        "id": "8o_oxbZ-zPV4"
      }
    },
    {
      "cell_type": "markdown",
      "source": [
        "Importação dos pacotes que iremos utilizar no projeto.\n",
        "\n",
        "Iremos usar o pacote Pandas (Python Data Analysis Library) para carregar os arquivos .csv disponíveis online."
      ],
      "metadata": {
        "id": "d9NrwDVVgGrs"
      }
    },
    {
      "cell_type": "code",
      "source": [
        "# importações\n",
        "import pandas as pd\n",
        "import numpy as np\n",
        "import matplotlib\n",
        "import matplotlib.pyplot as plt\n",
        "import seaborn as sns\n",
        "import missingno as ms # para tratamento de missings\n",
        "from matplotlib import cm\n",
        "from pandas import set_option\n",
        "from pandas.plotting import scatter_matrix\n",
        "from sklearn.preprocessing import StandardScaler\n",
        "from sklearn.preprocessing import MinMaxScaler\n",
        "from sklearn.model_selection import train_test_split\n",
        "from sklearn.model_selection import KFold\n",
        "from sklearn.model_selection import StratifiedKFold\n",
        "from sklearn.model_selection import cross_val_score\n",
        "from sklearn.model_selection import GridSearchCV\n",
        "from sklearn.metrics import classification_report\n",
        "from sklearn.metrics import confusion_matrix\n",
        "from sklearn.metrics import accuracy_score\n",
        "from sklearn.pipeline import Pipeline\n",
        "from sklearn.linear_model import LogisticRegression\n",
        "from sklearn.tree import DecisionTreeClassifier\n",
        "from sklearn.neighbors import KNeighborsClassifier\n",
        "from sklearn.naive_bayes import GaussianNB\n",
        "from sklearn.svm import SVC\n",
        "from sklearn.ensemble import BaggingClassifier\n",
        "from sklearn.ensemble import RandomForestClassifier\n",
        "from sklearn.ensemble import ExtraTreesClassifier\n",
        "from sklearn.ensemble import VotingClassifier\n",
        "from sklearn.ensemble import AdaBoostClassifier\n",
        "from sklearn.ensemble import GradientBoostingClassifier"
      ],
      "metadata": {
        "id": "VE29p5nbZO1f"
      },
      "execution_count": 1,
      "outputs": []
    },
    {
      "cell_type": "code",
      "source": [
        "# configuração para não exibir os warnings\n",
        "import warnings\n",
        "warnings.filterwarnings(\"ignore\")"
      ],
      "metadata": {
        "id": "A5VtyzFMoXOB"
      },
      "execution_count": 2,
      "outputs": []
    },
    {
      "cell_type": "markdown",
      "source": [
        "Iremos importar as urls dos arquivos csv...."
      ],
      "metadata": {
        "id": "U6dYkPYk5bQS"
      }
    },
    {
      "cell_type": "code",
      "source": [
        "\n",
        "# Carrega arquivo csv usando Pandas\n",
        "\n",
        "# Informa a URL de importação do dataset IMDB Filmes\n",
        "Url1 = 'https://raw.githubusercontent.com/LeonardoBrunoMorais/FILMES_OSCAR/main/contentDataPrime.csv'\n",
        "\n",
        "# Informa a URL de importação do dataset IMDB Generos\n",
        "Url2 = 'https://raw.githubusercontent.com/LeonardoBrunoMorais/FILMES_OSCAR/main/contentDataGenre.csv'\n",
        "\n",
        "# Informa a URL de importação do dataset IMDB Regiões\n",
        "Url3 = 'https://raw.githubusercontent.com/LeonardoBrunoMorais/FILMES_OSCAR/main/contentDataRegion.csv'\n",
        "\n",
        "# Informa a URL de importação do dataset Oscar\n",
        "Url4 = 'https://raw.githubusercontent.com/LeonardoBrunoMorais/FILMES_OSCAR/main/the_oscar_award.csv'\n",
        "\n",
        "\n",
        "# Lê o arquivo utilizando as colunas informadas\n",
        "dfIMDB_Filmes = pd.read_csv(Url1, delimiter=',')\n",
        "dfIMDB_Generos = pd.read_csv(Url2, delimiter=',')\n",
        "dfIMDB_Regioes = pd.read_csv(Url3, delimiter=',')\n",
        "df_Oscar = pd.read_csv(Url4, delimiter=',')\n",
        "\n",
        "\n",
        "# Verificando as colunas disponíveis no dataset\n",
        "print('Dataset IMDB Filmes:\\n')\n",
        "dfIMDB_Filmes.info()\n",
        "print('\\nDataset IMDB Gêneros:\\n')\n",
        "dfIMDB_Generos.info()\n",
        "print('\\nDataset IMDB Regiões:\\n')\n",
        "dfIMDB_Regioes.info()\n",
        "print('\\nDataset Oscar:\\n')\n",
        "df_Oscar.info()"
      ],
      "metadata": {
        "colab": {
          "base_uri": "https://localhost:8080/"
        },
        "id": "zt7G62V4akdu",
        "outputId": "6904272e-949f-4de5-b646-afc0b8c31b5f"
      },
      "execution_count": 3,
      "outputs": [
        {
          "output_type": "stream",
          "name": "stdout",
          "text": [
            "Dataset IMDB Filmes:\n",
            "\n",
            "<class 'pandas.core.frame.DataFrame'>\n",
            "RangeIndex: 101606 entries, 0 to 101605\n",
            "Data columns (total 11 columns):\n",
            " #   Column       Non-Null Count   Dtype  \n",
            "---  ------       --------------   -----  \n",
            " 0   dataId       101606 non-null  int64  \n",
            " 1   contentType  101606 non-null  object \n",
            " 2   title        101606 non-null  object \n",
            " 3   length       101606 non-null  object \n",
            " 4   releaseYear  101606 non-null  int64  \n",
            " 5   endYear      101606 non-null  int64  \n",
            " 6   votes        101606 non-null  int64  \n",
            " 7   rating       101606 non-null  float64\n",
            " 8   gross        101606 non-null  int64  \n",
            " 9   certificate  58358 non-null   object \n",
            " 10  description  101606 non-null  object \n",
            "dtypes: float64(1), int64(5), object(5)\n",
            "memory usage: 8.5+ MB\n",
            "\n",
            "Dataset IMDB Gêneros:\n",
            "\n",
            "<class 'pandas.core.frame.DataFrame'>\n",
            "RangeIndex: 219213 entries, 0 to 219212\n",
            "Data columns (total 2 columns):\n",
            " #   Column  Non-Null Count   Dtype \n",
            "---  ------  --------------   ----- \n",
            " 0   dataId  219213 non-null  int64 \n",
            " 1   genre   219213 non-null  object\n",
            "dtypes: int64(1), object(1)\n",
            "memory usage: 3.3+ MB\n",
            "\n",
            "Dataset IMDB Regiões:\n",
            "\n",
            "<class 'pandas.core.frame.DataFrame'>\n",
            "RangeIndex: 127932 entries, 0 to 127931\n",
            "Data columns (total 2 columns):\n",
            " #   Column  Non-Null Count   Dtype \n",
            "---  ------  --------------   ----- \n",
            " 0   dataId  127932 non-null  int64 \n",
            " 1   region  127932 non-null  object\n",
            "dtypes: int64(1), object(1)\n",
            "memory usage: 2.0+ MB\n",
            "\n",
            "Dataset Oscar:\n",
            "\n",
            "<class 'pandas.core.frame.DataFrame'>\n",
            "RangeIndex: 10765 entries, 0 to 10764\n",
            "Data columns (total 7 columns):\n",
            " #   Column         Non-Null Count  Dtype \n",
            "---  ------         --------------  ----- \n",
            " 0   year_film      10765 non-null  int64 \n",
            " 1   year_ceremony  10765 non-null  int64 \n",
            " 2   ceremony       10765 non-null  int64 \n",
            " 3   category       10765 non-null  object\n",
            " 4   name           10761 non-null  object\n",
            " 5   film           10450 non-null  object\n",
            " 6   winner         10765 non-null  bool  \n",
            "dtypes: bool(1), int64(3), object(3)\n",
            "memory usage: 515.2+ KB\n"
          ]
        }
      ]
    },
    {
      "cell_type": "markdown",
      "source": [
        "### **2.1 Agrupamento dos datasets IMDB**"
      ],
      "metadata": {
        "id": "2h940jA-0Cfb"
      }
    },
    {
      "cell_type": "markdown",
      "source": [
        "Vamos agrupar os datasets IMDb Filmes, IMDb Gêneros e IMDb Regiões utilizando a coluna dataId."
      ],
      "metadata": {
        "id": "cb5dMQCLQqdx"
      }
    },
    {
      "cell_type": "code",
      "source": [
        "# Mesclando as informações dos datasets IMDB Filmes, IMDB Gêneros e IMDB Regiões\n",
        "df_IMDB = pd.merge(dfIMDB_Filmes, dfIMDB_Generos.drop_duplicates(['dataId']), on=['dataId'], how='left')\n",
        "df_IMDB = pd.merge(df_IMDB, dfIMDB_Regioes.drop_duplicates(['dataId']), on=['dataId'], how='left')\n",
        "\n",
        "# Verificando as informações do dataset\n",
        "df_IMDB.info()"
      ],
      "metadata": {
        "colab": {
          "base_uri": "https://localhost:8080/"
        },
        "id": "aOxpZ_SUREN5",
        "outputId": "5f6bbbb8-edba-4895-9c7b-f179d0ec11b1"
      },
      "execution_count": 4,
      "outputs": [
        {
          "output_type": "stream",
          "name": "stdout",
          "text": [
            "<class 'pandas.core.frame.DataFrame'>\n",
            "Int64Index: 101606 entries, 0 to 101605\n",
            "Data columns (total 13 columns):\n",
            " #   Column       Non-Null Count   Dtype  \n",
            "---  ------       --------------   -----  \n",
            " 0   dataId       101606 non-null  int64  \n",
            " 1   contentType  101606 non-null  object \n",
            " 2   title        101606 non-null  object \n",
            " 3   length       101606 non-null  object \n",
            " 4   releaseYear  101606 non-null  int64  \n",
            " 5   endYear      101606 non-null  int64  \n",
            " 6   votes        101606 non-null  int64  \n",
            " 7   rating       101606 non-null  float64\n",
            " 8   gross        101606 non-null  int64  \n",
            " 9   certificate  58358 non-null   object \n",
            " 10  description  101606 non-null  object \n",
            " 11  genre        101606 non-null  object \n",
            " 12  region       101606 non-null  object \n",
            "dtypes: float64(1), int64(5), object(7)\n",
            "memory usage: 10.9+ MB\n"
          ]
        }
      ]
    },
    {
      "cell_type": "markdown",
      "source": [
        "### **2.1 Agrupamento dos datasets IMDB e Oscar**"
      ],
      "metadata": {
        "id": "zBZbhf3yZxrV"
      }
    },
    {
      "cell_type": "markdown",
      "source": [
        "Vamos levar algumas informações do dataset df_IMDB para o dataset DF_Oscar. Mas antes iremos classificar os dois datasets pelo ano de lançamento do filme."
      ],
      "metadata": {
        "id": "aZkIuo_vViop"
      }
    },
    {
      "cell_type": "code",
      "source": [
        "# Classificando pelo ano\n",
        "df_IMDB = df_IMDB.sort_values(['endYear', 'endYear'])\n",
        "df_Oscar = df_Oscar.sort_values(['year_film', 'year_film'])\n",
        "\n",
        "# Renomeando a Coluna title para film\n",
        "df_IMDB = df_IMDB.rename(columns={'title': 'film'})\n",
        "\n",
        "# Mesclando as informações dos datasets df_IMDB e df_Oscar\n",
        "df_Oscar_IMDB = pd.merge(df_Oscar, df_IMDB.drop_duplicates(['film']), on=['film'], how='left')\n",
        "\n",
        "# Verificando as informações do dataset\n",
        "df_Oscar_IMDB.info()"
      ],
      "metadata": {
        "colab": {
          "base_uri": "https://localhost:8080/"
        },
        "id": "YEiOPrWMUlUp",
        "outputId": "f0cc22ea-32a5-449d-dbd6-1c9bc8936bf5"
      },
      "execution_count": 5,
      "outputs": [
        {
          "output_type": "stream",
          "name": "stdout",
          "text": [
            "<class 'pandas.core.frame.DataFrame'>\n",
            "Int64Index: 10765 entries, 0 to 10764\n",
            "Data columns (total 19 columns):\n",
            " #   Column         Non-Null Count  Dtype  \n",
            "---  ------         --------------  -----  \n",
            " 0   year_film      10765 non-null  int64  \n",
            " 1   year_ceremony  10765 non-null  int64  \n",
            " 2   ceremony       10765 non-null  int64  \n",
            " 3   category       10765 non-null  object \n",
            " 4   name           10761 non-null  object \n",
            " 5   film           10450 non-null  object \n",
            " 6   winner         10765 non-null  bool   \n",
            " 7   dataId         8841 non-null   float64\n",
            " 8   contentType    8841 non-null   object \n",
            " 9   length         8841 non-null   object \n",
            " 10  releaseYear    8841 non-null   float64\n",
            " 11  endYear        8841 non-null   float64\n",
            " 12  votes          8841 non-null   float64\n",
            " 13  rating         8841 non-null   float64\n",
            " 14  gross          8841 non-null   float64\n",
            " 15  certificate    8389 non-null   object \n",
            " 16  description    8841 non-null   object \n",
            " 17  genre          8841 non-null   object \n",
            " 18  region         8841 non-null   object \n",
            "dtypes: bool(1), float64(6), int64(3), object(9)\n",
            "memory usage: 1.6+ MB\n"
          ]
        }
      ]
    },
    {
      "cell_type": "markdown",
      "source": [
        "Selecionando as colunas"
      ],
      "metadata": {
        "id": "iEzWVu23XnUE"
      }
    },
    {
      "cell_type": "code",
      "source": [
        "# Selecionando as colunas que queremos manter no dataset df_IMDB\n",
        "df_Oscar_IMDB = df_Oscar_IMDB [['year_film', 'year_ceremony', 'ceremony', 'category', 'name', 'film', 'winner', 'votes', 'rating', 'genre', 'region' ]]\n",
        "\n",
        "#Exibindo o dataset\n",
        "display(df_Oscar_IMDB)"
      ],
      "metadata": {
        "colab": {
          "base_uri": "https://localhost:8080/",
          "height": 606
        },
        "id": "0aQPsrsqXmiM",
        "outputId": "1249c27f-4ed5-4e38-f910-8a30919a7ae3"
      },
      "execution_count": 6,
      "outputs": [
        {
          "output_type": "display_data",
          "data": {
            "text/plain": [
              "       year_film  year_ceremony  ceremony                category  \\\n",
              "0           1927           1928         1                   ACTOR   \n",
              "1           1927           1928         1                   ACTOR   \n",
              "2           1927           1928         1                 ACTRESS   \n",
              "3           1927           1928         1                 ACTRESS   \n",
              "4           1927           1928         1                 ACTRESS   \n",
              "...          ...            ...       ...                     ...   \n",
              "10760       2022           2023        95          HONORARY AWARD   \n",
              "10761       2022           2023        95          HONORARY AWARD   \n",
              "10762       2022           2023        95          HONORARY AWARD   \n",
              "10763       2022           2023        95  GORDON E. SAWYER AWARD   \n",
              "10764       2022           2023        95   AWARD OF COMMENDATION   \n",
              "\n",
              "                                                    name                 film  \\\n",
              "0                                    Richard Barthelmess            The Noose   \n",
              "1                                          Emil Jannings     The Last Command   \n",
              "2                                         Louise Dresser      A Ship Comes In   \n",
              "3                                           Janet Gaynor           7th Heaven   \n",
              "4                                         Gloria Swanson       Sadie Thompson   \n",
              "...                                                  ...                  ...   \n",
              "10760  To Euzhan Palcy, a masterful filmmaker who bro...                  NaN   \n",
              "10761  To Diane Warren, for her genius, generosity an...                  NaN   \n",
              "10762  To Peter Weir, a fearless and consummate filmm...                  NaN   \n",
              "10763                                          Iain Neil                  NaN   \n",
              "10764  To Ryan Laney for his innovative adaptation an...  Welcome to Chechnya   \n",
              "\n",
              "       winner    votes  rating        genre         region  \n",
              "0       False   1128.0     7.7        Drama         Poland  \n",
              "1        True   4126.0     8.0        Drama  United States  \n",
              "2       False      NaN     NaN          NaN            NaN  \n",
              "3        True  26070.0     5.2       Comedy  United States  \n",
              "4       False   2743.0     7.2        Drama  United States  \n",
              "...       ...      ...     ...          ...            ...  \n",
              "10760    True      NaN     NaN          NaN            NaN  \n",
              "10761    True      NaN     NaN          NaN            NaN  \n",
              "10762    True      NaN     NaN          NaN            NaN  \n",
              "10763    True      NaN     NaN          NaN            NaN  \n",
              "10764    True   2967.0     7.9  Documentary  United States  \n",
              "\n",
              "[10765 rows x 11 columns]"
            ],
            "text/html": [
              "\n",
              "\n",
              "  <div id=\"df-5e940572-bc0f-45bf-8749-f1a920ac151e\">\n",
              "    <div class=\"colab-df-container\">\n",
              "      <div>\n",
              "<style scoped>\n",
              "    .dataframe tbody tr th:only-of-type {\n",
              "        vertical-align: middle;\n",
              "    }\n",
              "\n",
              "    .dataframe tbody tr th {\n",
              "        vertical-align: top;\n",
              "    }\n",
              "\n",
              "    .dataframe thead th {\n",
              "        text-align: right;\n",
              "    }\n",
              "</style>\n",
              "<table border=\"1\" class=\"dataframe\">\n",
              "  <thead>\n",
              "    <tr style=\"text-align: right;\">\n",
              "      <th></th>\n",
              "      <th>year_film</th>\n",
              "      <th>year_ceremony</th>\n",
              "      <th>ceremony</th>\n",
              "      <th>category</th>\n",
              "      <th>name</th>\n",
              "      <th>film</th>\n",
              "      <th>winner</th>\n",
              "      <th>votes</th>\n",
              "      <th>rating</th>\n",
              "      <th>genre</th>\n",
              "      <th>region</th>\n",
              "    </tr>\n",
              "  </thead>\n",
              "  <tbody>\n",
              "    <tr>\n",
              "      <th>0</th>\n",
              "      <td>1927</td>\n",
              "      <td>1928</td>\n",
              "      <td>1</td>\n",
              "      <td>ACTOR</td>\n",
              "      <td>Richard Barthelmess</td>\n",
              "      <td>The Noose</td>\n",
              "      <td>False</td>\n",
              "      <td>1128.0</td>\n",
              "      <td>7.7</td>\n",
              "      <td>Drama</td>\n",
              "      <td>Poland</td>\n",
              "    </tr>\n",
              "    <tr>\n",
              "      <th>1</th>\n",
              "      <td>1927</td>\n",
              "      <td>1928</td>\n",
              "      <td>1</td>\n",
              "      <td>ACTOR</td>\n",
              "      <td>Emil Jannings</td>\n",
              "      <td>The Last Command</td>\n",
              "      <td>True</td>\n",
              "      <td>4126.0</td>\n",
              "      <td>8.0</td>\n",
              "      <td>Drama</td>\n",
              "      <td>United States</td>\n",
              "    </tr>\n",
              "    <tr>\n",
              "      <th>2</th>\n",
              "      <td>1927</td>\n",
              "      <td>1928</td>\n",
              "      <td>1</td>\n",
              "      <td>ACTRESS</td>\n",
              "      <td>Louise Dresser</td>\n",
              "      <td>A Ship Comes In</td>\n",
              "      <td>False</td>\n",
              "      <td>NaN</td>\n",
              "      <td>NaN</td>\n",
              "      <td>NaN</td>\n",
              "      <td>NaN</td>\n",
              "    </tr>\n",
              "    <tr>\n",
              "      <th>3</th>\n",
              "      <td>1927</td>\n",
              "      <td>1928</td>\n",
              "      <td>1</td>\n",
              "      <td>ACTRESS</td>\n",
              "      <td>Janet Gaynor</td>\n",
              "      <td>7th Heaven</td>\n",
              "      <td>True</td>\n",
              "      <td>26070.0</td>\n",
              "      <td>5.2</td>\n",
              "      <td>Comedy</td>\n",
              "      <td>United States</td>\n",
              "    </tr>\n",
              "    <tr>\n",
              "      <th>4</th>\n",
              "      <td>1927</td>\n",
              "      <td>1928</td>\n",
              "      <td>1</td>\n",
              "      <td>ACTRESS</td>\n",
              "      <td>Gloria Swanson</td>\n",
              "      <td>Sadie Thompson</td>\n",
              "      <td>False</td>\n",
              "      <td>2743.0</td>\n",
              "      <td>7.2</td>\n",
              "      <td>Drama</td>\n",
              "      <td>United States</td>\n",
              "    </tr>\n",
              "    <tr>\n",
              "      <th>...</th>\n",
              "      <td>...</td>\n",
              "      <td>...</td>\n",
              "      <td>...</td>\n",
              "      <td>...</td>\n",
              "      <td>...</td>\n",
              "      <td>...</td>\n",
              "      <td>...</td>\n",
              "      <td>...</td>\n",
              "      <td>...</td>\n",
              "      <td>...</td>\n",
              "      <td>...</td>\n",
              "    </tr>\n",
              "    <tr>\n",
              "      <th>10760</th>\n",
              "      <td>2022</td>\n",
              "      <td>2023</td>\n",
              "      <td>95</td>\n",
              "      <td>HONORARY AWARD</td>\n",
              "      <td>To Euzhan Palcy, a masterful filmmaker who bro...</td>\n",
              "      <td>NaN</td>\n",
              "      <td>True</td>\n",
              "      <td>NaN</td>\n",
              "      <td>NaN</td>\n",
              "      <td>NaN</td>\n",
              "      <td>NaN</td>\n",
              "    </tr>\n",
              "    <tr>\n",
              "      <th>10761</th>\n",
              "      <td>2022</td>\n",
              "      <td>2023</td>\n",
              "      <td>95</td>\n",
              "      <td>HONORARY AWARD</td>\n",
              "      <td>To Diane Warren, for her genius, generosity an...</td>\n",
              "      <td>NaN</td>\n",
              "      <td>True</td>\n",
              "      <td>NaN</td>\n",
              "      <td>NaN</td>\n",
              "      <td>NaN</td>\n",
              "      <td>NaN</td>\n",
              "    </tr>\n",
              "    <tr>\n",
              "      <th>10762</th>\n",
              "      <td>2022</td>\n",
              "      <td>2023</td>\n",
              "      <td>95</td>\n",
              "      <td>HONORARY AWARD</td>\n",
              "      <td>To Peter Weir, a fearless and consummate filmm...</td>\n",
              "      <td>NaN</td>\n",
              "      <td>True</td>\n",
              "      <td>NaN</td>\n",
              "      <td>NaN</td>\n",
              "      <td>NaN</td>\n",
              "      <td>NaN</td>\n",
              "    </tr>\n",
              "    <tr>\n",
              "      <th>10763</th>\n",
              "      <td>2022</td>\n",
              "      <td>2023</td>\n",
              "      <td>95</td>\n",
              "      <td>GORDON E. SAWYER AWARD</td>\n",
              "      <td>Iain Neil</td>\n",
              "      <td>NaN</td>\n",
              "      <td>True</td>\n",
              "      <td>NaN</td>\n",
              "      <td>NaN</td>\n",
              "      <td>NaN</td>\n",
              "      <td>NaN</td>\n",
              "    </tr>\n",
              "    <tr>\n",
              "      <th>10764</th>\n",
              "      <td>2022</td>\n",
              "      <td>2023</td>\n",
              "      <td>95</td>\n",
              "      <td>AWARD OF COMMENDATION</td>\n",
              "      <td>To Ryan Laney for his innovative adaptation an...</td>\n",
              "      <td>Welcome to Chechnya</td>\n",
              "      <td>True</td>\n",
              "      <td>2967.0</td>\n",
              "      <td>7.9</td>\n",
              "      <td>Documentary</td>\n",
              "      <td>United States</td>\n",
              "    </tr>\n",
              "  </tbody>\n",
              "</table>\n",
              "<p>10765 rows × 11 columns</p>\n",
              "</div>\n",
              "      <button class=\"colab-df-convert\" onclick=\"convertToInteractive('df-5e940572-bc0f-45bf-8749-f1a920ac151e')\"\n",
              "              title=\"Convert this dataframe to an interactive table.\"\n",
              "              style=\"display:none;\">\n",
              "\n",
              "  <svg xmlns=\"http://www.w3.org/2000/svg\" height=\"24px\"viewBox=\"0 0 24 24\"\n",
              "       width=\"24px\">\n",
              "    <path d=\"M0 0h24v24H0V0z\" fill=\"none\"/>\n",
              "    <path d=\"M18.56 5.44l.94 2.06.94-2.06 2.06-.94-2.06-.94-.94-2.06-.94 2.06-2.06.94zm-11 1L8.5 8.5l.94-2.06 2.06-.94-2.06-.94L8.5 2.5l-.94 2.06-2.06.94zm10 10l.94 2.06.94-2.06 2.06-.94-2.06-.94-.94-2.06-.94 2.06-2.06.94z\"/><path d=\"M17.41 7.96l-1.37-1.37c-.4-.4-.92-.59-1.43-.59-.52 0-1.04.2-1.43.59L10.3 9.45l-7.72 7.72c-.78.78-.78 2.05 0 2.83L4 21.41c.39.39.9.59 1.41.59.51 0 1.02-.2 1.41-.59l7.78-7.78 2.81-2.81c.8-.78.8-2.07 0-2.86zM5.41 20L4 18.59l7.72-7.72 1.47 1.35L5.41 20z\"/>\n",
              "  </svg>\n",
              "      </button>\n",
              "\n",
              "\n",
              "\n",
              "    <div id=\"df-f247c007-c210-4615-ae5d-f0be804f1bab\">\n",
              "      <button class=\"colab-df-quickchart\" onclick=\"quickchart('df-f247c007-c210-4615-ae5d-f0be804f1bab')\"\n",
              "              title=\"Suggest charts.\"\n",
              "              style=\"display:none;\">\n",
              "\n",
              "<svg xmlns=\"http://www.w3.org/2000/svg\" height=\"24px\"viewBox=\"0 0 24 24\"\n",
              "     width=\"24px\">\n",
              "    <g>\n",
              "        <path d=\"M19 3H5c-1.1 0-2 .9-2 2v14c0 1.1.9 2 2 2h14c1.1 0 2-.9 2-2V5c0-1.1-.9-2-2-2zM9 17H7v-7h2v7zm4 0h-2V7h2v10zm4 0h-2v-4h2v4z\"/>\n",
              "    </g>\n",
              "</svg>\n",
              "      </button>\n",
              "    </div>\n",
              "\n",
              "<style>\n",
              "  .colab-df-quickchart {\n",
              "    background-color: #E8F0FE;\n",
              "    border: none;\n",
              "    border-radius: 50%;\n",
              "    cursor: pointer;\n",
              "    display: none;\n",
              "    fill: #1967D2;\n",
              "    height: 32px;\n",
              "    padding: 0 0 0 0;\n",
              "    width: 32px;\n",
              "  }\n",
              "\n",
              "  .colab-df-quickchart:hover {\n",
              "    background-color: #E2EBFA;\n",
              "    box-shadow: 0px 1px 2px rgba(60, 64, 67, 0.3), 0px 1px 3px 1px rgba(60, 64, 67, 0.15);\n",
              "    fill: #174EA6;\n",
              "  }\n",
              "\n",
              "  [theme=dark] .colab-df-quickchart {\n",
              "    background-color: #3B4455;\n",
              "    fill: #D2E3FC;\n",
              "  }\n",
              "\n",
              "  [theme=dark] .colab-df-quickchart:hover {\n",
              "    background-color: #434B5C;\n",
              "    box-shadow: 0px 1px 3px 1px rgba(0, 0, 0, 0.15);\n",
              "    filter: drop-shadow(0px 1px 2px rgba(0, 0, 0, 0.3));\n",
              "    fill: #FFFFFF;\n",
              "  }\n",
              "</style>\n",
              "\n",
              "    <script>\n",
              "      async function quickchart(key) {\n",
              "        const containerElement = document.querySelector('#' + key);\n",
              "        const charts = await google.colab.kernel.invokeFunction(\n",
              "            'suggestCharts', [key], {});\n",
              "      }\n",
              "    </script>\n",
              "\n",
              "      <script>\n",
              "\n",
              "function displayQuickchartButton(domScope) {\n",
              "  let quickchartButtonEl =\n",
              "    domScope.querySelector('#df-f247c007-c210-4615-ae5d-f0be804f1bab button.colab-df-quickchart');\n",
              "  quickchartButtonEl.style.display =\n",
              "    google.colab.kernel.accessAllowed ? 'block' : 'none';\n",
              "}\n",
              "\n",
              "        displayQuickchartButton(document);\n",
              "      </script>\n",
              "      <style>\n",
              "    .colab-df-container {\n",
              "      display:flex;\n",
              "      flex-wrap:wrap;\n",
              "      gap: 12px;\n",
              "    }\n",
              "\n",
              "    .colab-df-convert {\n",
              "      background-color: #E8F0FE;\n",
              "      border: none;\n",
              "      border-radius: 50%;\n",
              "      cursor: pointer;\n",
              "      display: none;\n",
              "      fill: #1967D2;\n",
              "      height: 32px;\n",
              "      padding: 0 0 0 0;\n",
              "      width: 32px;\n",
              "    }\n",
              "\n",
              "    .colab-df-convert:hover {\n",
              "      background-color: #E2EBFA;\n",
              "      box-shadow: 0px 1px 2px rgba(60, 64, 67, 0.3), 0px 1px 3px 1px rgba(60, 64, 67, 0.15);\n",
              "      fill: #174EA6;\n",
              "    }\n",
              "\n",
              "    [theme=dark] .colab-df-convert {\n",
              "      background-color: #3B4455;\n",
              "      fill: #D2E3FC;\n",
              "    }\n",
              "\n",
              "    [theme=dark] .colab-df-convert:hover {\n",
              "      background-color: #434B5C;\n",
              "      box-shadow: 0px 1px 3px 1px rgba(0, 0, 0, 0.15);\n",
              "      filter: drop-shadow(0px 1px 2px rgba(0, 0, 0, 0.3));\n",
              "      fill: #FFFFFF;\n",
              "    }\n",
              "  </style>\n",
              "\n",
              "      <script>\n",
              "        const buttonEl =\n",
              "          document.querySelector('#df-5e940572-bc0f-45bf-8749-f1a920ac151e button.colab-df-convert');\n",
              "        buttonEl.style.display =\n",
              "          google.colab.kernel.accessAllowed ? 'block' : 'none';\n",
              "\n",
              "        async function convertToInteractive(key) {\n",
              "          const element = document.querySelector('#df-5e940572-bc0f-45bf-8749-f1a920ac151e');\n",
              "          const dataTable =\n",
              "            await google.colab.kernel.invokeFunction('convertToInteractive',\n",
              "                                                     [key], {});\n",
              "          if (!dataTable) return;\n",
              "\n",
              "          const docLinkHtml = 'Like what you see? Visit the ' +\n",
              "            '<a target=\"_blank\" href=https://colab.research.google.com/notebooks/data_table.ipynb>data table notebook</a>'\n",
              "            + ' to learn more about interactive tables.';\n",
              "          element.innerHTML = '';\n",
              "          dataTable['output_type'] = 'display_data';\n",
              "          await google.colab.output.renderOutput(dataTable, element);\n",
              "          const docLink = document.createElement('div');\n",
              "          docLink.innerHTML = docLinkHtml;\n",
              "          element.appendChild(docLink);\n",
              "        }\n",
              "      </script>\n",
              "    </div>\n",
              "  </div>\n"
            ]
          },
          "metadata": {}
        }
      ]
    },
    {
      "cell_type": "markdown",
      "source": [
        "##### **- Criação do Atributo Alvo**\n",
        "\n",
        "A resposta que queremos do nosso problema é se o filme ganhou o não algum oscar. Vamos alterar a coluna winner para:\n",
        "\n",
        "True: 1\n",
        "\n",
        "False: 0"
      ],
      "metadata": {
        "id": "2tOqov0J5SMR"
      }
    },
    {
      "cell_type": "code",
      "source": [
        "# Alterando a Coluna winner\n",
        "\n",
        "df_Oscar_IMDB['winner'] = df_Oscar_IMDB['winner'].replace(True, 1)\n",
        "df_Oscar_IMDB['winner'] = df_Oscar_IMDB['winner'].replace(False, 0)\n",
        "\n",
        "# Verificano a distribuição do campo Posição\n",
        "print(df_Oscar_IMDB.groupby('winner').size())"
      ],
      "metadata": {
        "colab": {
          "base_uri": "https://localhost:8080/"
        },
        "id": "axt_jqyB6XSl",
        "outputId": "319ff3fd-5224-4f30-c0d0-47c2c2ee777e"
      },
      "execution_count": 7,
      "outputs": [
        {
          "output_type": "stream",
          "name": "stdout",
          "text": [
            "winner\n",
            "0    8327\n",
            "1    2438\n",
            "dtype: int64\n"
          ]
        }
      ]
    },
    {
      "cell_type": "markdown",
      "source": [
        "## 3. Análise de Dados"
      ],
      "metadata": {
        "id": "_2gVGRqJzX59"
      }
    },
    {
      "cell_type": "markdown",
      "source": [
        "### 3.1. Estatísticas Descritivas\n",
        "\n",
        "Vamos iniciar examinando as dimensões dos nossos dois datasets, suas informações e alguns exemplos de linhas."
      ],
      "metadata": {
        "id": "fuZMkTsOzCmG"
      }
    },
    {
      "cell_type": "code",
      "source": [
        "# Mostra as dimensões do dataset\n",
        "print(df_Oscar_IMDB.shape)"
      ],
      "metadata": {
        "colab": {
          "base_uri": "https://localhost:8080/"
        },
        "id": "nI5wUqqXEIkn",
        "outputId": "27fd4ab6-a60f-44a1-b178-f1a4de4ff0be"
      },
      "execution_count": 8,
      "outputs": [
        {
          "output_type": "stream",
          "name": "stdout",
          "text": [
            "(10765, 11)\n"
          ]
        }
      ]
    },
    {
      "cell_type": "code",
      "source": [
        "# Mostra as informações do datasets\n",
        "print(df_Oscar_IMDB.info())"
      ],
      "metadata": {
        "colab": {
          "base_uri": "https://localhost:8080/"
        },
        "id": "YGocW-TjEufb",
        "outputId": "27e0ca39-4044-4c90-85e9-0ee37046bfe4"
      },
      "execution_count": 9,
      "outputs": [
        {
          "output_type": "stream",
          "name": "stdout",
          "text": [
            "<class 'pandas.core.frame.DataFrame'>\n",
            "Int64Index: 10765 entries, 0 to 10764\n",
            "Data columns (total 11 columns):\n",
            " #   Column         Non-Null Count  Dtype  \n",
            "---  ------         --------------  -----  \n",
            " 0   year_film      10765 non-null  int64  \n",
            " 1   year_ceremony  10765 non-null  int64  \n",
            " 2   ceremony       10765 non-null  int64  \n",
            " 3   category       10765 non-null  object \n",
            " 4   name           10761 non-null  object \n",
            " 5   film           10450 non-null  object \n",
            " 6   winner         10765 non-null  int64  \n",
            " 7   votes          8841 non-null   float64\n",
            " 8   rating         8841 non-null   float64\n",
            " 9   genre          8841 non-null   object \n",
            " 10  region         8841 non-null   object \n",
            "dtypes: float64(2), int64(4), object(5)\n",
            "memory usage: 1009.2+ KB\n",
            "None\n"
          ]
        }
      ]
    },
    {
      "cell_type": "code",
      "source": [
        "# Mostra as 10 primeiras linhas do dataset\n",
        "df_Oscar_IMDB.head(10)"
      ],
      "metadata": {
        "colab": {
          "base_uri": "https://localhost:8080/",
          "height": 362
        },
        "id": "ovrWJsYyLD-5",
        "outputId": "7cc20533-4fab-40e6-b0ce-bd2cc6d6675f"
      },
      "execution_count": 10,
      "outputs": [
        {
          "output_type": "execute_result",
          "data": {
            "text/plain": [
              "   year_film  year_ceremony  ceremony        category  \\\n",
              "0       1927           1928         1           ACTOR   \n",
              "1       1927           1928         1           ACTOR   \n",
              "2       1927           1928         1         ACTRESS   \n",
              "3       1927           1928         1         ACTRESS   \n",
              "4       1927           1928         1         ACTRESS   \n",
              "5       1927           1928         1   ART DIRECTION   \n",
              "6       1927           1928         1   ART DIRECTION   \n",
              "7       1927           1928         1   ART DIRECTION   \n",
              "8       1927           1928         1  CINEMATOGRAPHY   \n",
              "9       1927           1928         1  CINEMATOGRAPHY   \n",
              "\n",
              "                      name               film  winner    votes  rating  \\\n",
              "0      Richard Barthelmess          The Noose       0   1128.0     7.7   \n",
              "1            Emil Jannings   The Last Command       1   4126.0     8.0   \n",
              "2           Louise Dresser    A Ship Comes In       0      NaN     NaN   \n",
              "3             Janet Gaynor         7th Heaven       1  26070.0     5.2   \n",
              "4           Gloria Swanson     Sadie Thompson       0   2743.0     7.2   \n",
              "5            Rochus Gliese            Sunrise       0    397.0     2.9   \n",
              "6  William Cameron Menzies          The Dove;       1      NaN     NaN   \n",
              "7             Harry Oliver         7th Heaven       0  26070.0     5.2   \n",
              "8            George Barnes  The Devil Dancer;       0      NaN     NaN   \n",
              "9           Charles Rosher            Sunrise       1    397.0     2.9   \n",
              "\n",
              "    genre         region  \n",
              "0   Drama         Poland  \n",
              "1   Drama  United States  \n",
              "2     NaN            NaN  \n",
              "3  Comedy  United States  \n",
              "4   Drama  United States  \n",
              "5    News      Australia  \n",
              "6     NaN            NaN  \n",
              "7  Comedy  United States  \n",
              "8     NaN            NaN  \n",
              "9    News      Australia  "
            ],
            "text/html": [
              "\n",
              "\n",
              "  <div id=\"df-7215c78c-86e7-4fa8-939f-97a9845beb5f\">\n",
              "    <div class=\"colab-df-container\">\n",
              "      <div>\n",
              "<style scoped>\n",
              "    .dataframe tbody tr th:only-of-type {\n",
              "        vertical-align: middle;\n",
              "    }\n",
              "\n",
              "    .dataframe tbody tr th {\n",
              "        vertical-align: top;\n",
              "    }\n",
              "\n",
              "    .dataframe thead th {\n",
              "        text-align: right;\n",
              "    }\n",
              "</style>\n",
              "<table border=\"1\" class=\"dataframe\">\n",
              "  <thead>\n",
              "    <tr style=\"text-align: right;\">\n",
              "      <th></th>\n",
              "      <th>year_film</th>\n",
              "      <th>year_ceremony</th>\n",
              "      <th>ceremony</th>\n",
              "      <th>category</th>\n",
              "      <th>name</th>\n",
              "      <th>film</th>\n",
              "      <th>winner</th>\n",
              "      <th>votes</th>\n",
              "      <th>rating</th>\n",
              "      <th>genre</th>\n",
              "      <th>region</th>\n",
              "    </tr>\n",
              "  </thead>\n",
              "  <tbody>\n",
              "    <tr>\n",
              "      <th>0</th>\n",
              "      <td>1927</td>\n",
              "      <td>1928</td>\n",
              "      <td>1</td>\n",
              "      <td>ACTOR</td>\n",
              "      <td>Richard Barthelmess</td>\n",
              "      <td>The Noose</td>\n",
              "      <td>0</td>\n",
              "      <td>1128.0</td>\n",
              "      <td>7.7</td>\n",
              "      <td>Drama</td>\n",
              "      <td>Poland</td>\n",
              "    </tr>\n",
              "    <tr>\n",
              "      <th>1</th>\n",
              "      <td>1927</td>\n",
              "      <td>1928</td>\n",
              "      <td>1</td>\n",
              "      <td>ACTOR</td>\n",
              "      <td>Emil Jannings</td>\n",
              "      <td>The Last Command</td>\n",
              "      <td>1</td>\n",
              "      <td>4126.0</td>\n",
              "      <td>8.0</td>\n",
              "      <td>Drama</td>\n",
              "      <td>United States</td>\n",
              "    </tr>\n",
              "    <tr>\n",
              "      <th>2</th>\n",
              "      <td>1927</td>\n",
              "      <td>1928</td>\n",
              "      <td>1</td>\n",
              "      <td>ACTRESS</td>\n",
              "      <td>Louise Dresser</td>\n",
              "      <td>A Ship Comes In</td>\n",
              "      <td>0</td>\n",
              "      <td>NaN</td>\n",
              "      <td>NaN</td>\n",
              "      <td>NaN</td>\n",
              "      <td>NaN</td>\n",
              "    </tr>\n",
              "    <tr>\n",
              "      <th>3</th>\n",
              "      <td>1927</td>\n",
              "      <td>1928</td>\n",
              "      <td>1</td>\n",
              "      <td>ACTRESS</td>\n",
              "      <td>Janet Gaynor</td>\n",
              "      <td>7th Heaven</td>\n",
              "      <td>1</td>\n",
              "      <td>26070.0</td>\n",
              "      <td>5.2</td>\n",
              "      <td>Comedy</td>\n",
              "      <td>United States</td>\n",
              "    </tr>\n",
              "    <tr>\n",
              "      <th>4</th>\n",
              "      <td>1927</td>\n",
              "      <td>1928</td>\n",
              "      <td>1</td>\n",
              "      <td>ACTRESS</td>\n",
              "      <td>Gloria Swanson</td>\n",
              "      <td>Sadie Thompson</td>\n",
              "      <td>0</td>\n",
              "      <td>2743.0</td>\n",
              "      <td>7.2</td>\n",
              "      <td>Drama</td>\n",
              "      <td>United States</td>\n",
              "    </tr>\n",
              "    <tr>\n",
              "      <th>5</th>\n",
              "      <td>1927</td>\n",
              "      <td>1928</td>\n",
              "      <td>1</td>\n",
              "      <td>ART DIRECTION</td>\n",
              "      <td>Rochus Gliese</td>\n",
              "      <td>Sunrise</td>\n",
              "      <td>0</td>\n",
              "      <td>397.0</td>\n",
              "      <td>2.9</td>\n",
              "      <td>News</td>\n",
              "      <td>Australia</td>\n",
              "    </tr>\n",
              "    <tr>\n",
              "      <th>6</th>\n",
              "      <td>1927</td>\n",
              "      <td>1928</td>\n",
              "      <td>1</td>\n",
              "      <td>ART DIRECTION</td>\n",
              "      <td>William Cameron Menzies</td>\n",
              "      <td>The Dove;</td>\n",
              "      <td>1</td>\n",
              "      <td>NaN</td>\n",
              "      <td>NaN</td>\n",
              "      <td>NaN</td>\n",
              "      <td>NaN</td>\n",
              "    </tr>\n",
              "    <tr>\n",
              "      <th>7</th>\n",
              "      <td>1927</td>\n",
              "      <td>1928</td>\n",
              "      <td>1</td>\n",
              "      <td>ART DIRECTION</td>\n",
              "      <td>Harry Oliver</td>\n",
              "      <td>7th Heaven</td>\n",
              "      <td>0</td>\n",
              "      <td>26070.0</td>\n",
              "      <td>5.2</td>\n",
              "      <td>Comedy</td>\n",
              "      <td>United States</td>\n",
              "    </tr>\n",
              "    <tr>\n",
              "      <th>8</th>\n",
              "      <td>1927</td>\n",
              "      <td>1928</td>\n",
              "      <td>1</td>\n",
              "      <td>CINEMATOGRAPHY</td>\n",
              "      <td>George Barnes</td>\n",
              "      <td>The Devil Dancer;</td>\n",
              "      <td>0</td>\n",
              "      <td>NaN</td>\n",
              "      <td>NaN</td>\n",
              "      <td>NaN</td>\n",
              "      <td>NaN</td>\n",
              "    </tr>\n",
              "    <tr>\n",
              "      <th>9</th>\n",
              "      <td>1927</td>\n",
              "      <td>1928</td>\n",
              "      <td>1</td>\n",
              "      <td>CINEMATOGRAPHY</td>\n",
              "      <td>Charles Rosher</td>\n",
              "      <td>Sunrise</td>\n",
              "      <td>1</td>\n",
              "      <td>397.0</td>\n",
              "      <td>2.9</td>\n",
              "      <td>News</td>\n",
              "      <td>Australia</td>\n",
              "    </tr>\n",
              "  </tbody>\n",
              "</table>\n",
              "</div>\n",
              "      <button class=\"colab-df-convert\" onclick=\"convertToInteractive('df-7215c78c-86e7-4fa8-939f-97a9845beb5f')\"\n",
              "              title=\"Convert this dataframe to an interactive table.\"\n",
              "              style=\"display:none;\">\n",
              "\n",
              "  <svg xmlns=\"http://www.w3.org/2000/svg\" height=\"24px\"viewBox=\"0 0 24 24\"\n",
              "       width=\"24px\">\n",
              "    <path d=\"M0 0h24v24H0V0z\" fill=\"none\"/>\n",
              "    <path d=\"M18.56 5.44l.94 2.06.94-2.06 2.06-.94-2.06-.94-.94-2.06-.94 2.06-2.06.94zm-11 1L8.5 8.5l.94-2.06 2.06-.94-2.06-.94L8.5 2.5l-.94 2.06-2.06.94zm10 10l.94 2.06.94-2.06 2.06-.94-2.06-.94-.94-2.06-.94 2.06-2.06.94z\"/><path d=\"M17.41 7.96l-1.37-1.37c-.4-.4-.92-.59-1.43-.59-.52 0-1.04.2-1.43.59L10.3 9.45l-7.72 7.72c-.78.78-.78 2.05 0 2.83L4 21.41c.39.39.9.59 1.41.59.51 0 1.02-.2 1.41-.59l7.78-7.78 2.81-2.81c.8-.78.8-2.07 0-2.86zM5.41 20L4 18.59l7.72-7.72 1.47 1.35L5.41 20z\"/>\n",
              "  </svg>\n",
              "      </button>\n",
              "\n",
              "\n",
              "\n",
              "    <div id=\"df-d381a251-e8e2-465c-a512-72dc6fe8cbb6\">\n",
              "      <button class=\"colab-df-quickchart\" onclick=\"quickchart('df-d381a251-e8e2-465c-a512-72dc6fe8cbb6')\"\n",
              "              title=\"Suggest charts.\"\n",
              "              style=\"display:none;\">\n",
              "\n",
              "<svg xmlns=\"http://www.w3.org/2000/svg\" height=\"24px\"viewBox=\"0 0 24 24\"\n",
              "     width=\"24px\">\n",
              "    <g>\n",
              "        <path d=\"M19 3H5c-1.1 0-2 .9-2 2v14c0 1.1.9 2 2 2h14c1.1 0 2-.9 2-2V5c0-1.1-.9-2-2-2zM9 17H7v-7h2v7zm4 0h-2V7h2v10zm4 0h-2v-4h2v4z\"/>\n",
              "    </g>\n",
              "</svg>\n",
              "      </button>\n",
              "    </div>\n",
              "\n",
              "<style>\n",
              "  .colab-df-quickchart {\n",
              "    background-color: #E8F0FE;\n",
              "    border: none;\n",
              "    border-radius: 50%;\n",
              "    cursor: pointer;\n",
              "    display: none;\n",
              "    fill: #1967D2;\n",
              "    height: 32px;\n",
              "    padding: 0 0 0 0;\n",
              "    width: 32px;\n",
              "  }\n",
              "\n",
              "  .colab-df-quickchart:hover {\n",
              "    background-color: #E2EBFA;\n",
              "    box-shadow: 0px 1px 2px rgba(60, 64, 67, 0.3), 0px 1px 3px 1px rgba(60, 64, 67, 0.15);\n",
              "    fill: #174EA6;\n",
              "  }\n",
              "\n",
              "  [theme=dark] .colab-df-quickchart {\n",
              "    background-color: #3B4455;\n",
              "    fill: #D2E3FC;\n",
              "  }\n",
              "\n",
              "  [theme=dark] .colab-df-quickchart:hover {\n",
              "    background-color: #434B5C;\n",
              "    box-shadow: 0px 1px 3px 1px rgba(0, 0, 0, 0.15);\n",
              "    filter: drop-shadow(0px 1px 2px rgba(0, 0, 0, 0.3));\n",
              "    fill: #FFFFFF;\n",
              "  }\n",
              "</style>\n",
              "\n",
              "    <script>\n",
              "      async function quickchart(key) {\n",
              "        const containerElement = document.querySelector('#' + key);\n",
              "        const charts = await google.colab.kernel.invokeFunction(\n",
              "            'suggestCharts', [key], {});\n",
              "      }\n",
              "    </script>\n",
              "\n",
              "      <script>\n",
              "\n",
              "function displayQuickchartButton(domScope) {\n",
              "  let quickchartButtonEl =\n",
              "    domScope.querySelector('#df-d381a251-e8e2-465c-a512-72dc6fe8cbb6 button.colab-df-quickchart');\n",
              "  quickchartButtonEl.style.display =\n",
              "    google.colab.kernel.accessAllowed ? 'block' : 'none';\n",
              "}\n",
              "\n",
              "        displayQuickchartButton(document);\n",
              "      </script>\n",
              "      <style>\n",
              "    .colab-df-container {\n",
              "      display:flex;\n",
              "      flex-wrap:wrap;\n",
              "      gap: 12px;\n",
              "    }\n",
              "\n",
              "    .colab-df-convert {\n",
              "      background-color: #E8F0FE;\n",
              "      border: none;\n",
              "      border-radius: 50%;\n",
              "      cursor: pointer;\n",
              "      display: none;\n",
              "      fill: #1967D2;\n",
              "      height: 32px;\n",
              "      padding: 0 0 0 0;\n",
              "      width: 32px;\n",
              "    }\n",
              "\n",
              "    .colab-df-convert:hover {\n",
              "      background-color: #E2EBFA;\n",
              "      box-shadow: 0px 1px 2px rgba(60, 64, 67, 0.3), 0px 1px 3px 1px rgba(60, 64, 67, 0.15);\n",
              "      fill: #174EA6;\n",
              "    }\n",
              "\n",
              "    [theme=dark] .colab-df-convert {\n",
              "      background-color: #3B4455;\n",
              "      fill: #D2E3FC;\n",
              "    }\n",
              "\n",
              "    [theme=dark] .colab-df-convert:hover {\n",
              "      background-color: #434B5C;\n",
              "      box-shadow: 0px 1px 3px 1px rgba(0, 0, 0, 0.15);\n",
              "      filter: drop-shadow(0px 1px 2px rgba(0, 0, 0, 0.3));\n",
              "      fill: #FFFFFF;\n",
              "    }\n",
              "  </style>\n",
              "\n",
              "      <script>\n",
              "        const buttonEl =\n",
              "          document.querySelector('#df-7215c78c-86e7-4fa8-939f-97a9845beb5f button.colab-df-convert');\n",
              "        buttonEl.style.display =\n",
              "          google.colab.kernel.accessAllowed ? 'block' : 'none';\n",
              "\n",
              "        async function convertToInteractive(key) {\n",
              "          const element = document.querySelector('#df-7215c78c-86e7-4fa8-939f-97a9845beb5f');\n",
              "          const dataTable =\n",
              "            await google.colab.kernel.invokeFunction('convertToInteractive',\n",
              "                                                     [key], {});\n",
              "          if (!dataTable) return;\n",
              "\n",
              "          const docLinkHtml = 'Like what you see? Visit the ' +\n",
              "            '<a target=\"_blank\" href=https://colab.research.google.com/notebooks/data_table.ipynb>data table notebook</a>'\n",
              "            + ' to learn more about interactive tables.';\n",
              "          element.innerHTML = '';\n",
              "          dataTable['output_type'] = 'display_data';\n",
              "          await google.colab.output.renderOutput(dataTable, element);\n",
              "          const docLink = document.createElement('div');\n",
              "          docLink.innerHTML = docLinkHtml;\n",
              "          element.appendChild(docLink);\n",
              "        }\n",
              "      </script>\n",
              "    </div>\n",
              "  </div>\n"
            ]
          },
          "metadata": {},
          "execution_count": 10
        }
      ]
    },
    {
      "cell_type": "code",
      "source": [],
      "metadata": {
        "id": "C8qefVvPUg2X"
      },
      "execution_count": 10,
      "outputs": []
    },
    {
      "cell_type": "code",
      "source": [
        "# Mostra as 10 últimas linhas do dataset\n",
        "df_Oscar_IMDB.tail(10)"
      ],
      "metadata": {
        "colab": {
          "base_uri": "https://localhost:8080/",
          "height": 597
        },
        "id": "eut7tw_E0R44",
        "outputId": "b6e3a1f8-e4d4-4e3c-afcd-68dc1d22bb38"
      },
      "execution_count": 11,
      "outputs": [
        {
          "output_type": "execute_result",
          "data": {
            "text/plain": [
              "       year_film  year_ceremony  ceremony                          category  \\\n",
              "10755       2022           2023        95     WRITING (Original Screenplay)   \n",
              "10756       2022           2023        95     WRITING (Original Screenplay)   \n",
              "10757       2022           2023        95     WRITING (Original Screenplay)   \n",
              "10758       2022           2023        95     WRITING (Original Screenplay)   \n",
              "10759       2022           2023        95  JEAN HERSHOLT HUMANITARIAN AWARD   \n",
              "10760       2022           2023        95                    HONORARY AWARD   \n",
              "10761       2022           2023        95                    HONORARY AWARD   \n",
              "10762       2022           2023        95                    HONORARY AWARD   \n",
              "10763       2022           2023        95            GORDON E. SAWYER AWARD   \n",
              "10764       2022           2023        95             AWARD OF COMMENDATION   \n",
              "\n",
              "                                                    name  \\\n",
              "10755          Written by Daniel Kwan & Daniel Scheinert   \n",
              "10756         Written by Steven Spielberg & Tony Kushner   \n",
              "10757                              Written by Todd Field   \n",
              "10758                           Written by Ruben Östlund   \n",
              "10759                                                NaN   \n",
              "10760  To Euzhan Palcy, a masterful filmmaker who bro...   \n",
              "10761  To Diane Warren, for her genius, generosity an...   \n",
              "10762  To Peter Weir, a fearless and consummate filmm...   \n",
              "10763                                          Iain Neil   \n",
              "10764  To Ryan Laney for his innovative adaptation an...   \n",
              "\n",
              "                                    film  winner     votes  rating  \\\n",
              "10755  Everything Everywhere All at Once       1  381869.0     7.9   \n",
              "10756                      The Fabelmans       0   75696.0     7.6   \n",
              "10757                                Tár       0   59795.0     7.5   \n",
              "10758                Triangle of Sadness       0  107723.0     7.4   \n",
              "10759                                NaN       1       NaN     NaN   \n",
              "10760                                NaN       1       NaN     NaN   \n",
              "10761                                NaN       1       NaN     NaN   \n",
              "10762                                NaN       1       NaN     NaN   \n",
              "10763                                NaN       1       NaN     NaN   \n",
              "10764                Welcome to Chechnya       1    2967.0     7.9   \n",
              "\n",
              "             genre         region  \n",
              "10755       Action  United States  \n",
              "10756        Drama  United States  \n",
              "10757        Drama  United States  \n",
              "10758       Comedy  United States  \n",
              "10759          NaN            NaN  \n",
              "10760          NaN            NaN  \n",
              "10761          NaN            NaN  \n",
              "10762          NaN            NaN  \n",
              "10763          NaN            NaN  \n",
              "10764  Documentary  United States  "
            ],
            "text/html": [
              "\n",
              "\n",
              "  <div id=\"df-b06a903b-abd8-492b-a56f-080b66e7b9a4\">\n",
              "    <div class=\"colab-df-container\">\n",
              "      <div>\n",
              "<style scoped>\n",
              "    .dataframe tbody tr th:only-of-type {\n",
              "        vertical-align: middle;\n",
              "    }\n",
              "\n",
              "    .dataframe tbody tr th {\n",
              "        vertical-align: top;\n",
              "    }\n",
              "\n",
              "    .dataframe thead th {\n",
              "        text-align: right;\n",
              "    }\n",
              "</style>\n",
              "<table border=\"1\" class=\"dataframe\">\n",
              "  <thead>\n",
              "    <tr style=\"text-align: right;\">\n",
              "      <th></th>\n",
              "      <th>year_film</th>\n",
              "      <th>year_ceremony</th>\n",
              "      <th>ceremony</th>\n",
              "      <th>category</th>\n",
              "      <th>name</th>\n",
              "      <th>film</th>\n",
              "      <th>winner</th>\n",
              "      <th>votes</th>\n",
              "      <th>rating</th>\n",
              "      <th>genre</th>\n",
              "      <th>region</th>\n",
              "    </tr>\n",
              "  </thead>\n",
              "  <tbody>\n",
              "    <tr>\n",
              "      <th>10755</th>\n",
              "      <td>2022</td>\n",
              "      <td>2023</td>\n",
              "      <td>95</td>\n",
              "      <td>WRITING (Original Screenplay)</td>\n",
              "      <td>Written by Daniel Kwan &amp; Daniel Scheinert</td>\n",
              "      <td>Everything Everywhere All at Once</td>\n",
              "      <td>1</td>\n",
              "      <td>381869.0</td>\n",
              "      <td>7.9</td>\n",
              "      <td>Action</td>\n",
              "      <td>United States</td>\n",
              "    </tr>\n",
              "    <tr>\n",
              "      <th>10756</th>\n",
              "      <td>2022</td>\n",
              "      <td>2023</td>\n",
              "      <td>95</td>\n",
              "      <td>WRITING (Original Screenplay)</td>\n",
              "      <td>Written by Steven Spielberg &amp; Tony Kushner</td>\n",
              "      <td>The Fabelmans</td>\n",
              "      <td>0</td>\n",
              "      <td>75696.0</td>\n",
              "      <td>7.6</td>\n",
              "      <td>Drama</td>\n",
              "      <td>United States</td>\n",
              "    </tr>\n",
              "    <tr>\n",
              "      <th>10757</th>\n",
              "      <td>2022</td>\n",
              "      <td>2023</td>\n",
              "      <td>95</td>\n",
              "      <td>WRITING (Original Screenplay)</td>\n",
              "      <td>Written by Todd Field</td>\n",
              "      <td>Tár</td>\n",
              "      <td>0</td>\n",
              "      <td>59795.0</td>\n",
              "      <td>7.5</td>\n",
              "      <td>Drama</td>\n",
              "      <td>United States</td>\n",
              "    </tr>\n",
              "    <tr>\n",
              "      <th>10758</th>\n",
              "      <td>2022</td>\n",
              "      <td>2023</td>\n",
              "      <td>95</td>\n",
              "      <td>WRITING (Original Screenplay)</td>\n",
              "      <td>Written by Ruben Östlund</td>\n",
              "      <td>Triangle of Sadness</td>\n",
              "      <td>0</td>\n",
              "      <td>107723.0</td>\n",
              "      <td>7.4</td>\n",
              "      <td>Comedy</td>\n",
              "      <td>United States</td>\n",
              "    </tr>\n",
              "    <tr>\n",
              "      <th>10759</th>\n",
              "      <td>2022</td>\n",
              "      <td>2023</td>\n",
              "      <td>95</td>\n",
              "      <td>JEAN HERSHOLT HUMANITARIAN AWARD</td>\n",
              "      <td>NaN</td>\n",
              "      <td>NaN</td>\n",
              "      <td>1</td>\n",
              "      <td>NaN</td>\n",
              "      <td>NaN</td>\n",
              "      <td>NaN</td>\n",
              "      <td>NaN</td>\n",
              "    </tr>\n",
              "    <tr>\n",
              "      <th>10760</th>\n",
              "      <td>2022</td>\n",
              "      <td>2023</td>\n",
              "      <td>95</td>\n",
              "      <td>HONORARY AWARD</td>\n",
              "      <td>To Euzhan Palcy, a masterful filmmaker who bro...</td>\n",
              "      <td>NaN</td>\n",
              "      <td>1</td>\n",
              "      <td>NaN</td>\n",
              "      <td>NaN</td>\n",
              "      <td>NaN</td>\n",
              "      <td>NaN</td>\n",
              "    </tr>\n",
              "    <tr>\n",
              "      <th>10761</th>\n",
              "      <td>2022</td>\n",
              "      <td>2023</td>\n",
              "      <td>95</td>\n",
              "      <td>HONORARY AWARD</td>\n",
              "      <td>To Diane Warren, for her genius, generosity an...</td>\n",
              "      <td>NaN</td>\n",
              "      <td>1</td>\n",
              "      <td>NaN</td>\n",
              "      <td>NaN</td>\n",
              "      <td>NaN</td>\n",
              "      <td>NaN</td>\n",
              "    </tr>\n",
              "    <tr>\n",
              "      <th>10762</th>\n",
              "      <td>2022</td>\n",
              "      <td>2023</td>\n",
              "      <td>95</td>\n",
              "      <td>HONORARY AWARD</td>\n",
              "      <td>To Peter Weir, a fearless and consummate filmm...</td>\n",
              "      <td>NaN</td>\n",
              "      <td>1</td>\n",
              "      <td>NaN</td>\n",
              "      <td>NaN</td>\n",
              "      <td>NaN</td>\n",
              "      <td>NaN</td>\n",
              "    </tr>\n",
              "    <tr>\n",
              "      <th>10763</th>\n",
              "      <td>2022</td>\n",
              "      <td>2023</td>\n",
              "      <td>95</td>\n",
              "      <td>GORDON E. SAWYER AWARD</td>\n",
              "      <td>Iain Neil</td>\n",
              "      <td>NaN</td>\n",
              "      <td>1</td>\n",
              "      <td>NaN</td>\n",
              "      <td>NaN</td>\n",
              "      <td>NaN</td>\n",
              "      <td>NaN</td>\n",
              "    </tr>\n",
              "    <tr>\n",
              "      <th>10764</th>\n",
              "      <td>2022</td>\n",
              "      <td>2023</td>\n",
              "      <td>95</td>\n",
              "      <td>AWARD OF COMMENDATION</td>\n",
              "      <td>To Ryan Laney for his innovative adaptation an...</td>\n",
              "      <td>Welcome to Chechnya</td>\n",
              "      <td>1</td>\n",
              "      <td>2967.0</td>\n",
              "      <td>7.9</td>\n",
              "      <td>Documentary</td>\n",
              "      <td>United States</td>\n",
              "    </tr>\n",
              "  </tbody>\n",
              "</table>\n",
              "</div>\n",
              "      <button class=\"colab-df-convert\" onclick=\"convertToInteractive('df-b06a903b-abd8-492b-a56f-080b66e7b9a4')\"\n",
              "              title=\"Convert this dataframe to an interactive table.\"\n",
              "              style=\"display:none;\">\n",
              "\n",
              "  <svg xmlns=\"http://www.w3.org/2000/svg\" height=\"24px\"viewBox=\"0 0 24 24\"\n",
              "       width=\"24px\">\n",
              "    <path d=\"M0 0h24v24H0V0z\" fill=\"none\"/>\n",
              "    <path d=\"M18.56 5.44l.94 2.06.94-2.06 2.06-.94-2.06-.94-.94-2.06-.94 2.06-2.06.94zm-11 1L8.5 8.5l.94-2.06 2.06-.94-2.06-.94L8.5 2.5l-.94 2.06-2.06.94zm10 10l.94 2.06.94-2.06 2.06-.94-2.06-.94-.94-2.06-.94 2.06-2.06.94z\"/><path d=\"M17.41 7.96l-1.37-1.37c-.4-.4-.92-.59-1.43-.59-.52 0-1.04.2-1.43.59L10.3 9.45l-7.72 7.72c-.78.78-.78 2.05 0 2.83L4 21.41c.39.39.9.59 1.41.59.51 0 1.02-.2 1.41-.59l7.78-7.78 2.81-2.81c.8-.78.8-2.07 0-2.86zM5.41 20L4 18.59l7.72-7.72 1.47 1.35L5.41 20z\"/>\n",
              "  </svg>\n",
              "      </button>\n",
              "\n",
              "\n",
              "\n",
              "    <div id=\"df-4708d9a3-0177-472a-80b5-c2d7621dc3d6\">\n",
              "      <button class=\"colab-df-quickchart\" onclick=\"quickchart('df-4708d9a3-0177-472a-80b5-c2d7621dc3d6')\"\n",
              "              title=\"Suggest charts.\"\n",
              "              style=\"display:none;\">\n",
              "\n",
              "<svg xmlns=\"http://www.w3.org/2000/svg\" height=\"24px\"viewBox=\"0 0 24 24\"\n",
              "     width=\"24px\">\n",
              "    <g>\n",
              "        <path d=\"M19 3H5c-1.1 0-2 .9-2 2v14c0 1.1.9 2 2 2h14c1.1 0 2-.9 2-2V5c0-1.1-.9-2-2-2zM9 17H7v-7h2v7zm4 0h-2V7h2v10zm4 0h-2v-4h2v4z\"/>\n",
              "    </g>\n",
              "</svg>\n",
              "      </button>\n",
              "    </div>\n",
              "\n",
              "<style>\n",
              "  .colab-df-quickchart {\n",
              "    background-color: #E8F0FE;\n",
              "    border: none;\n",
              "    border-radius: 50%;\n",
              "    cursor: pointer;\n",
              "    display: none;\n",
              "    fill: #1967D2;\n",
              "    height: 32px;\n",
              "    padding: 0 0 0 0;\n",
              "    width: 32px;\n",
              "  }\n",
              "\n",
              "  .colab-df-quickchart:hover {\n",
              "    background-color: #E2EBFA;\n",
              "    box-shadow: 0px 1px 2px rgba(60, 64, 67, 0.3), 0px 1px 3px 1px rgba(60, 64, 67, 0.15);\n",
              "    fill: #174EA6;\n",
              "  }\n",
              "\n",
              "  [theme=dark] .colab-df-quickchart {\n",
              "    background-color: #3B4455;\n",
              "    fill: #D2E3FC;\n",
              "  }\n",
              "\n",
              "  [theme=dark] .colab-df-quickchart:hover {\n",
              "    background-color: #434B5C;\n",
              "    box-shadow: 0px 1px 3px 1px rgba(0, 0, 0, 0.15);\n",
              "    filter: drop-shadow(0px 1px 2px rgba(0, 0, 0, 0.3));\n",
              "    fill: #FFFFFF;\n",
              "  }\n",
              "</style>\n",
              "\n",
              "    <script>\n",
              "      async function quickchart(key) {\n",
              "        const containerElement = document.querySelector('#' + key);\n",
              "        const charts = await google.colab.kernel.invokeFunction(\n",
              "            'suggestCharts', [key], {});\n",
              "      }\n",
              "    </script>\n",
              "\n",
              "      <script>\n",
              "\n",
              "function displayQuickchartButton(domScope) {\n",
              "  let quickchartButtonEl =\n",
              "    domScope.querySelector('#df-4708d9a3-0177-472a-80b5-c2d7621dc3d6 button.colab-df-quickchart');\n",
              "  quickchartButtonEl.style.display =\n",
              "    google.colab.kernel.accessAllowed ? 'block' : 'none';\n",
              "}\n",
              "\n",
              "        displayQuickchartButton(document);\n",
              "      </script>\n",
              "      <style>\n",
              "    .colab-df-container {\n",
              "      display:flex;\n",
              "      flex-wrap:wrap;\n",
              "      gap: 12px;\n",
              "    }\n",
              "\n",
              "    .colab-df-convert {\n",
              "      background-color: #E8F0FE;\n",
              "      border: none;\n",
              "      border-radius: 50%;\n",
              "      cursor: pointer;\n",
              "      display: none;\n",
              "      fill: #1967D2;\n",
              "      height: 32px;\n",
              "      padding: 0 0 0 0;\n",
              "      width: 32px;\n",
              "    }\n",
              "\n",
              "    .colab-df-convert:hover {\n",
              "      background-color: #E2EBFA;\n",
              "      box-shadow: 0px 1px 2px rgba(60, 64, 67, 0.3), 0px 1px 3px 1px rgba(60, 64, 67, 0.15);\n",
              "      fill: #174EA6;\n",
              "    }\n",
              "\n",
              "    [theme=dark] .colab-df-convert {\n",
              "      background-color: #3B4455;\n",
              "      fill: #D2E3FC;\n",
              "    }\n",
              "\n",
              "    [theme=dark] .colab-df-convert:hover {\n",
              "      background-color: #434B5C;\n",
              "      box-shadow: 0px 1px 3px 1px rgba(0, 0, 0, 0.15);\n",
              "      filter: drop-shadow(0px 1px 2px rgba(0, 0, 0, 0.3));\n",
              "      fill: #FFFFFF;\n",
              "    }\n",
              "  </style>\n",
              "\n",
              "      <script>\n",
              "        const buttonEl =\n",
              "          document.querySelector('#df-b06a903b-abd8-492b-a56f-080b66e7b9a4 button.colab-df-convert');\n",
              "        buttonEl.style.display =\n",
              "          google.colab.kernel.accessAllowed ? 'block' : 'none';\n",
              "\n",
              "        async function convertToInteractive(key) {\n",
              "          const element = document.querySelector('#df-b06a903b-abd8-492b-a56f-080b66e7b9a4');\n",
              "          const dataTable =\n",
              "            await google.colab.kernel.invokeFunction('convertToInteractive',\n",
              "                                                     [key], {});\n",
              "          if (!dataTable) return;\n",
              "\n",
              "          const docLinkHtml = 'Like what you see? Visit the ' +\n",
              "            '<a target=\"_blank\" href=https://colab.research.google.com/notebooks/data_table.ipynb>data table notebook</a>'\n",
              "            + ' to learn more about interactive tables.';\n",
              "          element.innerHTML = '';\n",
              "          dataTable['output_type'] = 'display_data';\n",
              "          await google.colab.output.renderOutput(dataTable, element);\n",
              "          const docLink = document.createElement('div');\n",
              "          docLink.innerHTML = docLinkHtml;\n",
              "          element.appendChild(docLink);\n",
              "        }\n",
              "      </script>\n",
              "    </div>\n",
              "  </div>\n"
            ]
          },
          "metadata": {},
          "execution_count": 11
        }
      ]
    },
    {
      "cell_type": "code",
      "source": [
        "# Verificano a distribuição do campo rating\n",
        "print(df_Oscar_IMDB.groupby('rating').size())"
      ],
      "metadata": {
        "colab": {
          "base_uri": "https://localhost:8080/"
        },
        "id": "WesveKux9Qar",
        "outputId": "e64f1947-5c14-4262-acaf-967179db7574"
      },
      "execution_count": 12,
      "outputs": [
        {
          "output_type": "stream",
          "name": "stdout",
          "text": [
            "rating\n",
            "2.8      1\n",
            "2.9      4\n",
            "3.3      1\n",
            "3.7      2\n",
            "3.8      1\n",
            "4.0      2\n",
            "4.1      1\n",
            "4.2      5\n",
            "4.3     20\n",
            "4.4      9\n",
            "4.5      4\n",
            "4.6      4\n",
            "4.7      6\n",
            "4.8      3\n",
            "4.9     10\n",
            "5.0     15\n",
            "5.1     14\n",
            "5.2     21\n",
            "5.3     22\n",
            "5.4     40\n",
            "5.5     31\n",
            "5.6     32\n",
            "5.7     43\n",
            "5.8     84\n",
            "5.9     53\n",
            "6.0     68\n",
            "6.1    105\n",
            "6.2    134\n",
            "6.3    127\n",
            "6.4    192\n",
            "6.5    199\n",
            "6.6    253\n",
            "6.7    285\n",
            "6.8    407\n",
            "6.9    328\n",
            "7.0    384\n",
            "7.1    406\n",
            "7.2    566\n",
            "7.3    569\n",
            "7.4    524\n",
            "7.5    528\n",
            "7.6    491\n",
            "7.7    524\n",
            "7.8    512\n",
            "7.9    344\n",
            "8.0    364\n",
            "8.1    328\n",
            "8.2    221\n",
            "8.3    162\n",
            "8.4    113\n",
            "8.5     97\n",
            "8.6     63\n",
            "8.7      5\n",
            "8.8     42\n",
            "8.9      9\n",
            "9.0     45\n",
            "9.2     11\n",
            "9.3      7\n",
            "dtype: int64\n"
          ]
        }
      ]
    },
    {
      "cell_type": "markdown",
      "source": [
        "Vamos exibir um resumo estatístico do dataset ***df_Oscar_IMDB***."
      ],
      "metadata": {
        "id": "Et9GwV4KF0M2"
      }
    },
    {
      "cell_type": "code",
      "source": [
        "# Faz um resumo estatístico do dataset df_Oscar_IMDB (média, desvio padrão, mínimo, máximo e os quartis)\n",
        "df_Oscar_IMDB.describe()"
      ],
      "metadata": {
        "colab": {
          "base_uri": "https://localhost:8080/",
          "height": 300
        },
        "id": "3LDT-vEsXCfT",
        "outputId": "bfa70d81-787d-47cf-916e-8d567da71d50"
      },
      "execution_count": 13,
      "outputs": [
        {
          "output_type": "execute_result",
          "data": {
            "text/plain": [
              "          year_film  year_ceremony      ceremony        winner         votes  \\\n",
              "count  10765.000000   10765.000000  10765.000000  10765.000000  8.841000e+03   \n",
              "mean    1976.074222    1977.074222     49.098932      0.226475  1.689443e+05   \n",
              "std       27.055841      27.055841     27.013986      0.418569  3.303675e+05   \n",
              "min     1927.000000    1928.000000      1.000000      0.000000  1.100000e+02   \n",
              "25%     1952.000000    1953.000000     25.000000      0.000000  4.593000e+03   \n",
              "50%     1975.000000    1976.000000     48.000000      0.000000  2.432900e+04   \n",
              "75%     2000.000000    2001.000000     73.000000      0.000000  1.752170e+05   \n",
              "max     2022.000000    2023.000000     95.000000      1.000000  2.715939e+06   \n",
              "\n",
              "            rating  \n",
              "count  8841.000000  \n",
              "mean      7.276394  \n",
              "std       0.740477  \n",
              "min       2.800000  \n",
              "25%       6.900000  \n",
              "50%       7.300000  \n",
              "75%       7.800000  \n",
              "max       9.300000  "
            ],
            "text/html": [
              "\n",
              "\n",
              "  <div id=\"df-228f6069-5dbf-4820-8ca4-dbf93a34c65b\">\n",
              "    <div class=\"colab-df-container\">\n",
              "      <div>\n",
              "<style scoped>\n",
              "    .dataframe tbody tr th:only-of-type {\n",
              "        vertical-align: middle;\n",
              "    }\n",
              "\n",
              "    .dataframe tbody tr th {\n",
              "        vertical-align: top;\n",
              "    }\n",
              "\n",
              "    .dataframe thead th {\n",
              "        text-align: right;\n",
              "    }\n",
              "</style>\n",
              "<table border=\"1\" class=\"dataframe\">\n",
              "  <thead>\n",
              "    <tr style=\"text-align: right;\">\n",
              "      <th></th>\n",
              "      <th>year_film</th>\n",
              "      <th>year_ceremony</th>\n",
              "      <th>ceremony</th>\n",
              "      <th>winner</th>\n",
              "      <th>votes</th>\n",
              "      <th>rating</th>\n",
              "    </tr>\n",
              "  </thead>\n",
              "  <tbody>\n",
              "    <tr>\n",
              "      <th>count</th>\n",
              "      <td>10765.000000</td>\n",
              "      <td>10765.000000</td>\n",
              "      <td>10765.000000</td>\n",
              "      <td>10765.000000</td>\n",
              "      <td>8.841000e+03</td>\n",
              "      <td>8841.000000</td>\n",
              "    </tr>\n",
              "    <tr>\n",
              "      <th>mean</th>\n",
              "      <td>1976.074222</td>\n",
              "      <td>1977.074222</td>\n",
              "      <td>49.098932</td>\n",
              "      <td>0.226475</td>\n",
              "      <td>1.689443e+05</td>\n",
              "      <td>7.276394</td>\n",
              "    </tr>\n",
              "    <tr>\n",
              "      <th>std</th>\n",
              "      <td>27.055841</td>\n",
              "      <td>27.055841</td>\n",
              "      <td>27.013986</td>\n",
              "      <td>0.418569</td>\n",
              "      <td>3.303675e+05</td>\n",
              "      <td>0.740477</td>\n",
              "    </tr>\n",
              "    <tr>\n",
              "      <th>min</th>\n",
              "      <td>1927.000000</td>\n",
              "      <td>1928.000000</td>\n",
              "      <td>1.000000</td>\n",
              "      <td>0.000000</td>\n",
              "      <td>1.100000e+02</td>\n",
              "      <td>2.800000</td>\n",
              "    </tr>\n",
              "    <tr>\n",
              "      <th>25%</th>\n",
              "      <td>1952.000000</td>\n",
              "      <td>1953.000000</td>\n",
              "      <td>25.000000</td>\n",
              "      <td>0.000000</td>\n",
              "      <td>4.593000e+03</td>\n",
              "      <td>6.900000</td>\n",
              "    </tr>\n",
              "    <tr>\n",
              "      <th>50%</th>\n",
              "      <td>1975.000000</td>\n",
              "      <td>1976.000000</td>\n",
              "      <td>48.000000</td>\n",
              "      <td>0.000000</td>\n",
              "      <td>2.432900e+04</td>\n",
              "      <td>7.300000</td>\n",
              "    </tr>\n",
              "    <tr>\n",
              "      <th>75%</th>\n",
              "      <td>2000.000000</td>\n",
              "      <td>2001.000000</td>\n",
              "      <td>73.000000</td>\n",
              "      <td>0.000000</td>\n",
              "      <td>1.752170e+05</td>\n",
              "      <td>7.800000</td>\n",
              "    </tr>\n",
              "    <tr>\n",
              "      <th>max</th>\n",
              "      <td>2022.000000</td>\n",
              "      <td>2023.000000</td>\n",
              "      <td>95.000000</td>\n",
              "      <td>1.000000</td>\n",
              "      <td>2.715939e+06</td>\n",
              "      <td>9.300000</td>\n",
              "    </tr>\n",
              "  </tbody>\n",
              "</table>\n",
              "</div>\n",
              "      <button class=\"colab-df-convert\" onclick=\"convertToInteractive('df-228f6069-5dbf-4820-8ca4-dbf93a34c65b')\"\n",
              "              title=\"Convert this dataframe to an interactive table.\"\n",
              "              style=\"display:none;\">\n",
              "\n",
              "  <svg xmlns=\"http://www.w3.org/2000/svg\" height=\"24px\"viewBox=\"0 0 24 24\"\n",
              "       width=\"24px\">\n",
              "    <path d=\"M0 0h24v24H0V0z\" fill=\"none\"/>\n",
              "    <path d=\"M18.56 5.44l.94 2.06.94-2.06 2.06-.94-2.06-.94-.94-2.06-.94 2.06-2.06.94zm-11 1L8.5 8.5l.94-2.06 2.06-.94-2.06-.94L8.5 2.5l-.94 2.06-2.06.94zm10 10l.94 2.06.94-2.06 2.06-.94-2.06-.94-.94-2.06-.94 2.06-2.06.94z\"/><path d=\"M17.41 7.96l-1.37-1.37c-.4-.4-.92-.59-1.43-.59-.52 0-1.04.2-1.43.59L10.3 9.45l-7.72 7.72c-.78.78-.78 2.05 0 2.83L4 21.41c.39.39.9.59 1.41.59.51 0 1.02-.2 1.41-.59l7.78-7.78 2.81-2.81c.8-.78.8-2.07 0-2.86zM5.41 20L4 18.59l7.72-7.72 1.47 1.35L5.41 20z\"/>\n",
              "  </svg>\n",
              "      </button>\n",
              "\n",
              "\n",
              "\n",
              "    <div id=\"df-4da3298e-c642-4596-9b24-c735451a3e91\">\n",
              "      <button class=\"colab-df-quickchart\" onclick=\"quickchart('df-4da3298e-c642-4596-9b24-c735451a3e91')\"\n",
              "              title=\"Suggest charts.\"\n",
              "              style=\"display:none;\">\n",
              "\n",
              "<svg xmlns=\"http://www.w3.org/2000/svg\" height=\"24px\"viewBox=\"0 0 24 24\"\n",
              "     width=\"24px\">\n",
              "    <g>\n",
              "        <path d=\"M19 3H5c-1.1 0-2 .9-2 2v14c0 1.1.9 2 2 2h14c1.1 0 2-.9 2-2V5c0-1.1-.9-2-2-2zM9 17H7v-7h2v7zm4 0h-2V7h2v10zm4 0h-2v-4h2v4z\"/>\n",
              "    </g>\n",
              "</svg>\n",
              "      </button>\n",
              "    </div>\n",
              "\n",
              "<style>\n",
              "  .colab-df-quickchart {\n",
              "    background-color: #E8F0FE;\n",
              "    border: none;\n",
              "    border-radius: 50%;\n",
              "    cursor: pointer;\n",
              "    display: none;\n",
              "    fill: #1967D2;\n",
              "    height: 32px;\n",
              "    padding: 0 0 0 0;\n",
              "    width: 32px;\n",
              "  }\n",
              "\n",
              "  .colab-df-quickchart:hover {\n",
              "    background-color: #E2EBFA;\n",
              "    box-shadow: 0px 1px 2px rgba(60, 64, 67, 0.3), 0px 1px 3px 1px rgba(60, 64, 67, 0.15);\n",
              "    fill: #174EA6;\n",
              "  }\n",
              "\n",
              "  [theme=dark] .colab-df-quickchart {\n",
              "    background-color: #3B4455;\n",
              "    fill: #D2E3FC;\n",
              "  }\n",
              "\n",
              "  [theme=dark] .colab-df-quickchart:hover {\n",
              "    background-color: #434B5C;\n",
              "    box-shadow: 0px 1px 3px 1px rgba(0, 0, 0, 0.15);\n",
              "    filter: drop-shadow(0px 1px 2px rgba(0, 0, 0, 0.3));\n",
              "    fill: #FFFFFF;\n",
              "  }\n",
              "</style>\n",
              "\n",
              "    <script>\n",
              "      async function quickchart(key) {\n",
              "        const containerElement = document.querySelector('#' + key);\n",
              "        const charts = await google.colab.kernel.invokeFunction(\n",
              "            'suggestCharts', [key], {});\n",
              "      }\n",
              "    </script>\n",
              "\n",
              "      <script>\n",
              "\n",
              "function displayQuickchartButton(domScope) {\n",
              "  let quickchartButtonEl =\n",
              "    domScope.querySelector('#df-4da3298e-c642-4596-9b24-c735451a3e91 button.colab-df-quickchart');\n",
              "  quickchartButtonEl.style.display =\n",
              "    google.colab.kernel.accessAllowed ? 'block' : 'none';\n",
              "}\n",
              "\n",
              "        displayQuickchartButton(document);\n",
              "      </script>\n",
              "      <style>\n",
              "    .colab-df-container {\n",
              "      display:flex;\n",
              "      flex-wrap:wrap;\n",
              "      gap: 12px;\n",
              "    }\n",
              "\n",
              "    .colab-df-convert {\n",
              "      background-color: #E8F0FE;\n",
              "      border: none;\n",
              "      border-radius: 50%;\n",
              "      cursor: pointer;\n",
              "      display: none;\n",
              "      fill: #1967D2;\n",
              "      height: 32px;\n",
              "      padding: 0 0 0 0;\n",
              "      width: 32px;\n",
              "    }\n",
              "\n",
              "    .colab-df-convert:hover {\n",
              "      background-color: #E2EBFA;\n",
              "      box-shadow: 0px 1px 2px rgba(60, 64, 67, 0.3), 0px 1px 3px 1px rgba(60, 64, 67, 0.15);\n",
              "      fill: #174EA6;\n",
              "    }\n",
              "\n",
              "    [theme=dark] .colab-df-convert {\n",
              "      background-color: #3B4455;\n",
              "      fill: #D2E3FC;\n",
              "    }\n",
              "\n",
              "    [theme=dark] .colab-df-convert:hover {\n",
              "      background-color: #434B5C;\n",
              "      box-shadow: 0px 1px 3px 1px rgba(0, 0, 0, 0.15);\n",
              "      filter: drop-shadow(0px 1px 2px rgba(0, 0, 0, 0.3));\n",
              "      fill: #FFFFFF;\n",
              "    }\n",
              "  </style>\n",
              "\n",
              "      <script>\n",
              "        const buttonEl =\n",
              "          document.querySelector('#df-228f6069-5dbf-4820-8ca4-dbf93a34c65b button.colab-df-convert');\n",
              "        buttonEl.style.display =\n",
              "          google.colab.kernel.accessAllowed ? 'block' : 'none';\n",
              "\n",
              "        async function convertToInteractive(key) {\n",
              "          const element = document.querySelector('#df-228f6069-5dbf-4820-8ca4-dbf93a34c65b');\n",
              "          const dataTable =\n",
              "            await google.colab.kernel.invokeFunction('convertToInteractive',\n",
              "                                                     [key], {});\n",
              "          if (!dataTable) return;\n",
              "\n",
              "          const docLinkHtml = 'Like what you see? Visit the ' +\n",
              "            '<a target=\"_blank\" href=https://colab.research.google.com/notebooks/data_table.ipynb>data table notebook</a>'\n",
              "            + ' to learn more about interactive tables.';\n",
              "          element.innerHTML = '';\n",
              "          dataTable['output_type'] = 'display_data';\n",
              "          await google.colab.output.renderOutput(dataTable, element);\n",
              "          const docLink = document.createElement('div');\n",
              "          docLink.innerHTML = docLinkHtml;\n",
              "          element.appendChild(docLink);\n",
              "        }\n",
              "      </script>\n",
              "    </div>\n",
              "  </div>\n"
            ]
          },
          "metadata": {},
          "execution_count": 13
        }
      ]
    },
    {
      "cell_type": "markdown",
      "source": [
        "### 3.2. Visualizações Unimodais\n",
        "\n",
        "Vamos criar agora um histograma para cada atributo do dataset ***df_Oscar_IMDB***. Mas antes vamos converter os campos year-film, year_ceremony e ceremony em campos texto para que eles não sejas considerados como atributos."
      ],
      "metadata": {
        "id": "Hyv1TvcYjkA3"
      }
    },
    {
      "cell_type": "code",
      "source": [
        "# converter as colunas \"year_film, year_ceremony e ceremony\" para texto para que  não seja considerada uma variável numérica e exibida nos gráficos\n",
        "df_Oscar_IMDB['year_film'] = df_Oscar_IMDB['year_film'].astype(str)\n",
        "df_Oscar_IMDB['year_ceremony'] = df_Oscar_IMDB['year_ceremony'].astype(str)\n",
        "df_Oscar_IMDB['ceremony'] = df_Oscar_IMDB['ceremony'].astype(str)"
      ],
      "metadata": {
        "id": "2Lx2HonLn2G2"
      },
      "execution_count": 14,
      "outputs": []
    },
    {
      "cell_type": "code",
      "source": [
        "# Histograma\n",
        "df_Oscar_IMDB.hist(figsize = (10,15))\n",
        "plt.show()"
      ],
      "metadata": {
        "colab": {
          "base_uri": "https://localhost:8080/",
          "height": 1000
        },
        "id": "BxbFp-eMjmnu",
        "outputId": "aa9cba8b-42e0-459d-f56d-ab28cec6dd00"
      },
      "execution_count": 15,
      "outputs": [
        {
          "output_type": "display_data",
          "data": {
            "text/plain": [
              "<Figure size 1000x1500 with 4 Axes>"
            ],
            "image/png": "[encoded data removed]"
          },
          "metadata": {}
        }
      ]
    },
    {
      "cell_type": "markdown",
      "source": [
        "Podemos verificar que os atributos winner e votes possuem uma distribuição dois picos e despenhadeiro a esquerda, respectivamente. O atributo rating segue uma distribuição assimétrica positiva.\n",
        "\n"
      ],
      "metadata": {
        "id": "4p7tS3mcnoPL"
      }
    },
    {
      "cell_type": "markdown",
      "source": [
        "O resultado do gráfio winner tinha uma distribuição esperada, tendo em vista a variável classificatória apresentar apenas dois resultados possíveis, Ganhou (1) ou Não Ganhou (0). Desta forma, a informação apresentada pelo gráfico faz mas sentido em realação a quantidade de ganhadores e não ganhadores de uma categoria de premiação. Ou seja, verifica-se que do universo de 10.765 filmes que concorreram, cerca de 2.438 filmes ganharam alguma premniação versus mais de 8.320 que não ganharam."
      ],
      "metadata": {
        "id": "39CDLjn8ClF-"
      }
    },
    {
      "cell_type": "markdown",
      "source": [
        "Em relação a gráfico rating, percebe-se que a maior concentração de avaliações está entre as notas 7 e 8. Demonstrando que não há grande dispersão entre as avaliações.\n",
        "\n",
        "A média dos filmes recebeu avalaição de 7,2. Ou seja, cerca de 5.000 filmes. Menos de 500 filmes receberam avalaição até 6,0 e menos de 100, avaliações superiores a 9,0.\n",
        "\n",
        "Essas informações combinadas com a quantidade de votos sinalizas que há uma relação entre rating e votes que podem indicar alguma covariância."
      ],
      "metadata": {
        "id": "wjjTHF--6p5F"
      }
    },
    {
      "cell_type": "markdown",
      "source": [
        "Agora vamos verificar os dados com o Gráfico de Densidade, ou Density Plot. Vamos criar um density plot para cada atributo do dataset para visualizar a sua curva de densidade."
      ],
      "metadata": {
        "id": "a5addSGNj9Xb"
      }
    },
    {
      "cell_type": "code",
      "source": [
        "# Density Plot\n",
        "df_Oscar_IMDB.plot(kind = 'density', subplots = True, layout = (1,3), sharex = False, figsize = (15,10))\n",
        "plt.show()"
      ],
      "metadata": {
        "colab": {
          "base_uri": "https://localhost:8080/",
          "height": 864
        },
        "id": "GJJs1mxfj9Hf",
        "outputId": "82a7da41-14f7-4181-cb45-ab032d0c2b30"
      },
      "execution_count": 16,
      "outputs": [
        {
          "output_type": "display_data",
          "data": {
            "text/plain": [
              "<Figure size 1500x1000 with 3 Axes>"
            ],
            "image/png": "[encoded data removed]"
          },
          "metadata": {}
        }
      ]
    },
    {
      "cell_type": "markdown",
      "source": [
        "A curva de densidade nos mostra uma melhor visualização gráfica dos dados, confirmando nossas análises efetuadas com o histograma."
      ],
      "metadata": {
        "id": "yLo-zax0q7wk"
      }
    },
    {
      "cell_type": "markdown",
      "source": [
        "Vamos agora trabalhar com boxplots.\n",
        "\n",
        "O objetivo da construção desse gráfico é tornar mais nítida a visualização das estatísticas para fazer análises e processamentos em relação a dispersão, assimetria, média, outliers (mínimos e máximos) e mediana.\n",
        "\n",
        "No boxplot, a linha no centro (verde) representa o valor da mediana. A linha abaixo é o 1o quartil e a linha acima o terceiro quartil. O boxplot ajuda a ter uma ideia da dispersão dos dataset e os possíveis outliers."
      ],
      "metadata": {
        "id": "JRjB9E21knby"
      }
    },
    {
      "cell_type": "code",
      "source": [
        "# Boxplot\n",
        "df_Oscar_IMDB.plot(kind = 'box', subplots = True, layout = (1,3), sharex = False, sharey = False, figsize = (15,10))\n",
        "plt.show()"
      ],
      "metadata": {
        "colab": {
          "base_uri": "https://localhost:8080/",
          "height": 845
        },
        "id": "1EylN9Kckpds",
        "outputId": "2720e7a6-75fa-4918-a86b-8bc0611ad98a"
      },
      "execution_count": 17,
      "outputs": [
        {
          "output_type": "display_data",
          "data": {
            "text/plain": [
              "<Figure size 1500x1000 with 3 Axes>"
            ],
            "image/png": "[encoded data removed]"
          },
          "metadata": {}
        }
      ]
    },
    {
      "cell_type": "markdown",
      "source": [
        "Podemos verificar que a posição winner não gera um quadro central, como já explicado, devido a variável classificatória.\n",
        "\n",
        "Contudo, em relação ao gráfico votes, uma grande quantidade de valores fora do quadro central, o que indica casos de outliers. Entretanto, não consideramos que esses casos necessitem de tratamentos pois são as pontuações efetivamente avaliadas pelos usurários da plataforma.\n",
        "\n",
        "Por fim, em relação ao gráfico rating, o quadro central está concetrado entre as avaliações 7 e 8, considerando a sua altura. Ou seja, a diferença entre o primeiro e o terceiro quartil demonstram a variabilidade dos outliers.\n",
        "\n",
        "Com esse gráfico também podemos ver com mais facilidade a os dois picos (winner), mais acentuado a esqueda no caso do votes e a asssimetria positiva do rating com a mediana mais ao centro do primeiro quarti. São simétricos quando a linha da mediana fica no centro da caixa."
      ],
      "metadata": {
        "id": "sVZ2usUttAmG"
      }
    },
    {
      "cell_type": "markdown",
      "source": [
        "### 3.3. Visualizações Multimodais\n",
        "\n",
        "Complementaremos a nossa análise de dados verificando a associação entre as nossas variáveis, ou seja, o grau de dependência entre elas. Para isso iremos utilizar o coeficiente de correlação de Pearson(ρ), onde:\n",
        "* ρ próximo de -1 : há uma correlação negativa entre as variáveis,\n",
        "* ρ próximo de +1: há uma correlação positiva entre as variáveis,\n",
        "* ρ próximo de 0: não há correlação entre as variáveis.\n",
        "\n",
        "Para visualizarmos a matriz de correlação, vamos utilizar a função .heatmap() do pacote seaborn, essa função vai nos retornar uma forma gráfica da matriz com uma escala de cor em conjunto com uma escala numérica, as quais vão indicar o grau medido entre as variáveis."
      ],
      "metadata": {
        "id": "iUQ9dn3luYa6"
      }
    },
    {
      "cell_type": "code",
      "source": [
        "# Matriz de Correlação com Matplotlib Seaborn\n",
        "sns.heatmap(df_Oscar_IMDB.corr(), annot=True, cmap='RdBu', vmin=-1, vmax=1);"
      ],
      "metadata": {
        "colab": {
          "base_uri": "https://localhost:8080/",
          "height": 435
        },
        "id": "_BQJG4C4uej8",
        "outputId": "a83b508b-7511-4865-9370-4e8f648579f7"
      },
      "execution_count": 18,
      "outputs": [
        {
          "output_type": "display_data",
          "data": {
            "text/plain": [
              "<Figure size 640x480 with 2 Axes>"
            ],
            "image/png": "[encoded data removed]"
          },
          "metadata": {}
        }
      ]
    },
    {
      "cell_type": "markdown",
      "source": [
        "Nessa matriz podemos ver uma escala de cores de tonalidades de laranja, vermelho e azul, e uma escala numérica que vai de 1 a -1. O interessante dessa representação gráfica é que além da barra lateral que demonstra a escala numérica do coeficiente e das cores, há também em cada quadrante o valor e a cor referente da relação."
      ],
      "metadata": {
        "id": "wzBS3Pad1u7_"
      }
    },
    {
      "cell_type": "markdown",
      "source": [
        "Podemos verificar no gráfico que a coluna votes tem uma correlação positiva de 0,51, enquanto a coluna winner tem apenas 0,14.\n"
      ],
      "metadata": {
        "id": "66bcuIAZhgzL"
      }
    },
    {
      "cell_type": "markdown",
      "source": [
        "Por sua vez, o gráfico de dispersão (scatter plot) mostra o relacionamento entre duas variáveis. Vamos exibir um para cada par de atributos dos dataset, usando o Seaborn."
      ],
      "metadata": {
        "id": "bzLR2SryuahJ"
      }
    },
    {
      "cell_type": "code",
      "source": [
        "# Scatter Plot com Seaborn - Variação 1\n",
        "\n",
        "sns.pairplot(df_Oscar_IMDB)"
      ],
      "metadata": {
        "colab": {
          "base_uri": "https://localhost:8080/",
          "height": 776
        },
        "id": "dl8zd-6fuvOs",
        "outputId": "e247ee45-6286-47d9-a66f-cdfa4c0f1785"
      },
      "execution_count": 19,
      "outputs": [
        {
          "output_type": "execute_result",
          "data": {
            "text/plain": [
              "<seaborn.axisgrid.PairGrid at 0x7ab623fd19f0>"
            ]
          },
          "metadata": {},
          "execution_count": 19
        },
        {
          "output_type": "display_data",
          "data": {
            "text/plain": [
              "<Figure size 750x750 with 12 Axes>"
            ],
            "image/png": "[encoded data removed]"
          },
          "metadata": {}
        }
      ]
    },
    {
      "cell_type": "code",
      "source": [
        "# Scatter Plot com Seaborn - Variação 2\n",
        "sns.pairplot(df_Oscar_IMDB, hue = \"winner\", height = 2.5);"
      ],
      "metadata": {
        "colab": {
          "base_uri": "https://localhost:8080/",
          "height": 513
        },
        "id": "SfF87_UFvPBe",
        "outputId": "58a6bde4-1bfa-466f-a60f-0197afc731a9"
      },
      "execution_count": 20,
      "outputs": [
        {
          "output_type": "display_data",
          "data": {
            "text/plain": [
              "<Figure size 558.875x500 with 6 Axes>"
            ],
            "image/png": "[encoded data removed]"
          },
          "metadata": {}
        }
      ]
    },
    {
      "cell_type": "markdown",
      "source": [
        "Quando analisamos a relação votes x rating, verificamos que os filmes que ganharam o Oscar (Bolinha lanranja) são os que tiveram a maior quantidade de votos e maior pontuação, ficando na extremidade direita do gráfico. No gráfico rating x votes, fica na extremidade superior do gráfico.\n"
      ],
      "metadata": {
        "id": "odFFAYkinmdS"
      }
    },
    {
      "cell_type": "markdown",
      "source": [
        "## 4. Pré-Processamento de dados\n",
        "\n",
        "Nesta etapa iremos realizar o tratamento de valores faltantes (missings) e zerados."
      ],
      "metadata": {
        "id": "4TVDo4JduabW"
      }
    },
    {
      "cell_type": "markdown",
      "source": [
        "### 4.1. Tratamento de Missings e Limpeza"
      ],
      "metadata": {
        "id": "CTcm4PTAuaXl"
      }
    },
    {
      "cell_type": "markdown",
      "source": [
        "Primeiramente vamos verificar os valores missing no nosso dataset ***df_Oscar_IMDB***."
      ],
      "metadata": {
        "id": "lPkD34_fuaNM"
      }
    },
    {
      "cell_type": "markdown",
      "source": [
        "#### **4.1.1 Tratamento de NaN**"
      ],
      "metadata": {
        "id": "FffaTrZdM49D"
      }
    },
    {
      "cell_type": "code",
      "source": [
        "# verificando nulls no dataset\n",
        "df_Oscar_IMDB.isnull().sum()"
      ],
      "metadata": {
        "colab": {
          "base_uri": "https://localhost:8080/"
        },
        "id": "or2QS2mbwtMt",
        "outputId": "45b45334-5e45-4e24-cdb6-37349703295a"
      },
      "execution_count": 21,
      "outputs": [
        {
          "output_type": "execute_result",
          "data": {
            "text/plain": [
              "year_film           0\n",
              "year_ceremony       0\n",
              "ceremony            0\n",
              "category            0\n",
              "name                4\n",
              "film              315\n",
              "winner              0\n",
              "votes            1924\n",
              "rating           1924\n",
              "genre            1924\n",
              "region           1924\n",
              "dtype: int64"
            ]
          },
          "metadata": {},
          "execution_count": 21
        }
      ]
    },
    {
      "cell_type": "markdown",
      "source": [
        "Verificamos que existem 1924 linhas sem rating. Como é com base nessa pontuação que queremos estudar se o filme irá ou não ganhar um oscar, vamos excluir essas linhas sem dados."
      ],
      "metadata": {
        "id": "WstEvYJW-UW6"
      }
    },
    {
      "cell_type": "markdown",
      "source": [
        "#### **4.1.2 Tratamento de zeros**\n"
      ],
      "metadata": {
        "id": "-XJEWXKUEMs1"
      }
    },
    {
      "cell_type": "markdown",
      "source": [
        "Vamos salvar uma nova visão de nosso dataset que se chamará agora ***df_OSCAR_NaN***. Nesse dataset iremos selecionar apenas as colunas dos nossos atributos preditores."
      ],
      "metadata": {
        "id": "rWuP8BuDXGcA"
      }
    },
    {
      "cell_type": "code",
      "source": [
        "# salvando um NOVO dataset para tratamento de missings\n",
        "\n",
        "# selecionando as colunas\n",
        "colunas_selecionadas = df_Oscar_IMDB.iloc[:, 4:19]\n",
        "\n",
        "# criar um novo dataset com as colunas selecionadas que serão as nossas variáveis\n",
        "df_Oscar_NaN = pd.DataFrame(colunas_selecionadas)\n",
        "\n",
        "display(df_Oscar_NaN)"
      ],
      "metadata": {
        "colab": {
          "base_uri": "https://localhost:8080/",
          "height": 423
        },
        "id": "9Hym3-HEMlxX",
        "outputId": "f3f67657-3e5a-498f-c500-81d83e3148cc"
      },
      "execution_count": 22,
      "outputs": [
        {
          "output_type": "display_data",
          "data": {
            "text/plain": [
              "                                                    name                 film  \\\n",
              "0                                    Richard Barthelmess            The Noose   \n",
              "1                                          Emil Jannings     The Last Command   \n",
              "2                                         Louise Dresser      A Ship Comes In   \n",
              "3                                           Janet Gaynor           7th Heaven   \n",
              "4                                         Gloria Swanson       Sadie Thompson   \n",
              "...                                                  ...                  ...   \n",
              "10760  To Euzhan Palcy, a masterful filmmaker who bro...                  NaN   \n",
              "10761  To Diane Warren, for her genius, generosity an...                  NaN   \n",
              "10762  To Peter Weir, a fearless and consummate filmm...                  NaN   \n",
              "10763                                          Iain Neil                  NaN   \n",
              "10764  To Ryan Laney for his innovative adaptation an...  Welcome to Chechnya   \n",
              "\n",
              "       winner    votes  rating        genre         region  \n",
              "0           0   1128.0     7.7        Drama         Poland  \n",
              "1           1   4126.0     8.0        Drama  United States  \n",
              "2           0      NaN     NaN          NaN            NaN  \n",
              "3           1  26070.0     5.2       Comedy  United States  \n",
              "4           0   2743.0     7.2        Drama  United States  \n",
              "...       ...      ...     ...          ...            ...  \n",
              "10760       1      NaN     NaN          NaN            NaN  \n",
              "10761       1      NaN     NaN          NaN            NaN  \n",
              "10762       1      NaN     NaN          NaN            NaN  \n",
              "10763       1      NaN     NaN          NaN            NaN  \n",
              "10764       1   2967.0     7.9  Documentary  United States  \n",
              "\n",
              "[10765 rows x 7 columns]"
            ],
            "text/html": [
              "\n",
              "\n",
              "  <div id=\"df-f867d00e-f7c6-46dd-900a-46fa6e4d3b07\">\n",
              "    <div class=\"colab-df-container\">\n",
              "      <div>\n",
              "<style scoped>\n",
              "    .dataframe tbody tr th:only-of-type {\n",
              "        vertical-align: middle;\n",
              "    }\n",
              "\n",
              "    .dataframe tbody tr th {\n",
              "        vertical-align: top;\n",
              "    }\n",
              "\n",
              "    .dataframe thead th {\n",
              "        text-align: right;\n",
              "    }\n",
              "</style>\n",
              "<table border=\"1\" class=\"dataframe\">\n",
              "  <thead>\n",
              "    <tr style=\"text-align: right;\">\n",
              "      <th></th>\n",
              "      <th>name</th>\n",
              "      <th>film</th>\n",
              "      <th>winner</th>\n",
              "      <th>votes</th>\n",
              "      <th>rating</th>\n",
              "      <th>genre</th>\n",
              "      <th>region</th>\n",
              "    </tr>\n",
              "  </thead>\n",
              "  <tbody>\n",
              "    <tr>\n",
              "      <th>0</th>\n",
              "      <td>Richard Barthelmess</td>\n",
              "      <td>The Noose</td>\n",
              "      <td>0</td>\n",
              "      <td>1128.0</td>\n",
              "      <td>7.7</td>\n",
              "      <td>Drama</td>\n",
              "      <td>Poland</td>\n",
              "    </tr>\n",
              "    <tr>\n",
              "      <th>1</th>\n",
              "      <td>Emil Jannings</td>\n",
              "      <td>The Last Command</td>\n",
              "      <td>1</td>\n",
              "      <td>4126.0</td>\n",
              "      <td>8.0</td>\n",
              "      <td>Drama</td>\n",
              "      <td>United States</td>\n",
              "    </tr>\n",
              "    <tr>\n",
              "      <th>2</th>\n",
              "      <td>Louise Dresser</td>\n",
              "      <td>A Ship Comes In</td>\n",
              "      <td>0</td>\n",
              "      <td>NaN</td>\n",
              "      <td>NaN</td>\n",
              "      <td>NaN</td>\n",
              "      <td>NaN</td>\n",
              "    </tr>\n",
              "    <tr>\n",
              "      <th>3</th>\n",
              "      <td>Janet Gaynor</td>\n",
              "      <td>7th Heaven</td>\n",
              "      <td>1</td>\n",
              "      <td>26070.0</td>\n",
              "      <td>5.2</td>\n",
              "      <td>Comedy</td>\n",
              "      <td>United States</td>\n",
              "    </tr>\n",
              "    <tr>\n",
              "      <th>4</th>\n",
              "      <td>Gloria Swanson</td>\n",
              "      <td>Sadie Thompson</td>\n",
              "      <td>0</td>\n",
              "      <td>2743.0</td>\n",
              "      <td>7.2</td>\n",
              "      <td>Drama</td>\n",
              "      <td>United States</td>\n",
              "    </tr>\n",
              "    <tr>\n",
              "      <th>...</th>\n",
              "      <td>...</td>\n",
              "      <td>...</td>\n",
              "      <td>...</td>\n",
              "      <td>...</td>\n",
              "      <td>...</td>\n",
              "      <td>...</td>\n",
              "      <td>...</td>\n",
              "    </tr>\n",
              "    <tr>\n",
              "      <th>10760</th>\n",
              "      <td>To Euzhan Palcy, a masterful filmmaker who bro...</td>\n",
              "      <td>NaN</td>\n",
              "      <td>1</td>\n",
              "      <td>NaN</td>\n",
              "      <td>NaN</td>\n",
              "      <td>NaN</td>\n",
              "      <td>NaN</td>\n",
              "    </tr>\n",
              "    <tr>\n",
              "      <th>10761</th>\n",
              "      <td>To Diane Warren, for her genius, generosity an...</td>\n",
              "      <td>NaN</td>\n",
              "      <td>1</td>\n",
              "      <td>NaN</td>\n",
              "      <td>NaN</td>\n",
              "      <td>NaN</td>\n",
              "      <td>NaN</td>\n",
              "    </tr>\n",
              "    <tr>\n",
              "      <th>10762</th>\n",
              "      <td>To Peter Weir, a fearless and consummate filmm...</td>\n",
              "      <td>NaN</td>\n",
              "      <td>1</td>\n",
              "      <td>NaN</td>\n",
              "      <td>NaN</td>\n",
              "      <td>NaN</td>\n",
              "      <td>NaN</td>\n",
              "    </tr>\n",
              "    <tr>\n",
              "      <th>10763</th>\n",
              "      <td>Iain Neil</td>\n",
              "      <td>NaN</td>\n",
              "      <td>1</td>\n",
              "      <td>NaN</td>\n",
              "      <td>NaN</td>\n",
              "      <td>NaN</td>\n",
              "      <td>NaN</td>\n",
              "    </tr>\n",
              "    <tr>\n",
              "      <th>10764</th>\n",
              "      <td>To Ryan Laney for his innovative adaptation an...</td>\n",
              "      <td>Welcome to Chechnya</td>\n",
              "      <td>1</td>\n",
              "      <td>2967.0</td>\n",
              "      <td>7.9</td>\n",
              "      <td>Documentary</td>\n",
              "      <td>United States</td>\n",
              "    </tr>\n",
              "  </tbody>\n",
              "</table>\n",
              "<p>10765 rows × 7 columns</p>\n",
              "</div>\n",
              "      <button class=\"colab-df-convert\" onclick=\"convertToInteractive('df-f867d00e-f7c6-46dd-900a-46fa6e4d3b07')\"\n",
              "              title=\"Convert this dataframe to an interactive table.\"\n",
              "              style=\"display:none;\">\n",
              "\n",
              "  <svg xmlns=\"http://www.w3.org/2000/svg\" height=\"24px\"viewBox=\"0 0 24 24\"\n",
              "       width=\"24px\">\n",
              "    <path d=\"M0 0h24v24H0V0z\" fill=\"none\"/>\n",
              "    <path d=\"M18.56 5.44l.94 2.06.94-2.06 2.06-.94-2.06-.94-.94-2.06-.94 2.06-2.06.94zm-11 1L8.5 8.5l.94-2.06 2.06-.94-2.06-.94L8.5 2.5l-.94 2.06-2.06.94zm10 10l.94 2.06.94-2.06 2.06-.94-2.06-.94-.94-2.06-.94 2.06-2.06.94z\"/><path d=\"M17.41 7.96l-1.37-1.37c-.4-.4-.92-.59-1.43-.59-.52 0-1.04.2-1.43.59L10.3 9.45l-7.72 7.72c-.78.78-.78 2.05 0 2.83L4 21.41c.39.39.9.59 1.41.59.51 0 1.02-.2 1.41-.59l7.78-7.78 2.81-2.81c.8-.78.8-2.07 0-2.86zM5.41 20L4 18.59l7.72-7.72 1.47 1.35L5.41 20z\"/>\n",
              "  </svg>\n",
              "      </button>\n",
              "\n",
              "\n",
              "\n",
              "    <div id=\"df-23cfdf3d-18b1-40e3-8358-13bb6901761f\">\n",
              "      <button class=\"colab-df-quickchart\" onclick=\"quickchart('df-23cfdf3d-18b1-40e3-8358-13bb6901761f')\"\n",
              "              title=\"Suggest charts.\"\n",
              "              style=\"display:none;\">\n",
              "\n",
              "<svg xmlns=\"http://www.w3.org/2000/svg\" height=\"24px\"viewBox=\"0 0 24 24\"\n",
              "     width=\"24px\">\n",
              "    <g>\n",
              "        <path d=\"M19 3H5c-1.1 0-2 .9-2 2v14c0 1.1.9 2 2 2h14c1.1 0 2-.9 2-2V5c0-1.1-.9-2-2-2zM9 17H7v-7h2v7zm4 0h-2V7h2v10zm4 0h-2v-4h2v4z\"/>\n",
              "    </g>\n",
              "</svg>\n",
              "      </button>\n",
              "    </div>\n",
              "\n",
              "<style>\n",
              "  .colab-df-quickchart {\n",
              "    background-color: #E8F0FE;\n",
              "    border: none;\n",
              "    border-radius: 50%;\n",
              "    cursor: pointer;\n",
              "    display: none;\n",
              "    fill: #1967D2;\n",
              "    height: 32px;\n",
              "    padding: 0 0 0 0;\n",
              "    width: 32px;\n",
              "  }\n",
              "\n",
              "  .colab-df-quickchart:hover {\n",
              "    background-color: #E2EBFA;\n",
              "    box-shadow: 0px 1px 2px rgba(60, 64, 67, 0.3), 0px 1px 3px 1px rgba(60, 64, 67, 0.15);\n",
              "    fill: #174EA6;\n",
              "  }\n",
              "\n",
              "  [theme=dark] .colab-df-quickchart {\n",
              "    background-color: #3B4455;\n",
              "    fill: #D2E3FC;\n",
              "  }\n",
              "\n",
              "  [theme=dark] .colab-df-quickchart:hover {\n",
              "    background-color: #434B5C;\n",
              "    box-shadow: 0px 1px 3px 1px rgba(0, 0, 0, 0.15);\n",
              "    filter: drop-shadow(0px 1px 2px rgba(0, 0, 0, 0.3));\n",
              "    fill: #FFFFFF;\n",
              "  }\n",
              "</style>\n",
              "\n",
              "    <script>\n",
              "      async function quickchart(key) {\n",
              "        const containerElement = document.querySelector('#' + key);\n",
              "        const charts = await google.colab.kernel.invokeFunction(\n",
              "            'suggestCharts', [key], {});\n",
              "      }\n",
              "    </script>\n",
              "\n",
              "      <script>\n",
              "\n",
              "function displayQuickchartButton(domScope) {\n",
              "  let quickchartButtonEl =\n",
              "    domScope.querySelector('#df-23cfdf3d-18b1-40e3-8358-13bb6901761f button.colab-df-quickchart');\n",
              "  quickchartButtonEl.style.display =\n",
              "    google.colab.kernel.accessAllowed ? 'block' : 'none';\n",
              "}\n",
              "\n",
              "        displayQuickchartButton(document);\n",
              "      </script>\n",
              "      <style>\n",
              "    .colab-df-container {\n",
              "      display:flex;\n",
              "      flex-wrap:wrap;\n",
              "      gap: 12px;\n",
              "    }\n",
              "\n",
              "    .colab-df-convert {\n",
              "      background-color: #E8F0FE;\n",
              "      border: none;\n",
              "      border-radius: 50%;\n",
              "      cursor: pointer;\n",
              "      display: none;\n",
              "      fill: #1967D2;\n",
              "      height: 32px;\n",
              "      padding: 0 0 0 0;\n",
              "      width: 32px;\n",
              "    }\n",
              "\n",
              "    .colab-df-convert:hover {\n",
              "      background-color: #E2EBFA;\n",
              "      box-shadow: 0px 1px 2px rgba(60, 64, 67, 0.3), 0px 1px 3px 1px rgba(60, 64, 67, 0.15);\n",
              "      fill: #174EA6;\n",
              "    }\n",
              "\n",
              "    [theme=dark] .colab-df-convert {\n",
              "      background-color: #3B4455;\n",
              "      fill: #D2E3FC;\n",
              "    }\n",
              "\n",
              "    [theme=dark] .colab-df-convert:hover {\n",
              "      background-color: #434B5C;\n",
              "      box-shadow: 0px 1px 3px 1px rgba(0, 0, 0, 0.15);\n",
              "      filter: drop-shadow(0px 1px 2px rgba(0, 0, 0, 0.3));\n",
              "      fill: #FFFFFF;\n",
              "    }\n",
              "  </style>\n",
              "\n",
              "      <script>\n",
              "        const buttonEl =\n",
              "          document.querySelector('#df-f867d00e-f7c6-46dd-900a-46fa6e4d3b07 button.colab-df-convert');\n",
              "        buttonEl.style.display =\n",
              "          google.colab.kernel.accessAllowed ? 'block' : 'none';\n",
              "\n",
              "        async function convertToInteractive(key) {\n",
              "          const element = document.querySelector('#df-f867d00e-f7c6-46dd-900a-46fa6e4d3b07');\n",
              "          const dataTable =\n",
              "            await google.colab.kernel.invokeFunction('convertToInteractive',\n",
              "                                                     [key], {});\n",
              "          if (!dataTable) return;\n",
              "\n",
              "          const docLinkHtml = 'Like what you see? Visit the ' +\n",
              "            '<a target=\"_blank\" href=https://colab.research.google.com/notebooks/data_table.ipynb>data table notebook</a>'\n",
              "            + ' to learn more about interactive tables.';\n",
              "          element.innerHTML = '';\n",
              "          dataTable['output_type'] = 'display_data';\n",
              "          await google.colab.output.renderOutput(dataTable, element);\n",
              "          const docLink = document.createElement('div');\n",
              "          docLink.innerHTML = docLinkHtml;\n",
              "          element.appendChild(docLink);\n",
              "        }\n",
              "      </script>\n",
              "    </div>\n",
              "  </div>\n"
            ]
          },
          "metadata": {}
        }
      ]
    },
    {
      "cell_type": "code",
      "source": [
        "# substituindo os zeros por NaN\n",
        "df_Oscar_NaN.replace(0, np.nan, inplace=True)\n",
        "\n",
        "# exibindo visualização matricial da nulidade do dataset\n",
        "ms.matrix(df_Oscar_NaN)"
      ],
      "metadata": {
        "colab": {
          "base_uri": "https://localhost:8080/",
          "height": 566
        },
        "id": "anca6ScMTSib",
        "outputId": "ef708ee0-7822-4d4a-d658-2acf6b2315b3"
      },
      "execution_count": 23,
      "outputs": [
        {
          "output_type": "execute_result",
          "data": {
            "text/plain": [
              "<Axes: >"
            ]
          },
          "metadata": {},
          "execution_count": 23
        },
        {
          "output_type": "display_data",
          "data": {
            "text/plain": [
              "<Figure size 2500x1000 with 2 Axes>"
            ],
            "image/png": "[encoded data removed]"
          },
          "metadata": {}
        }
      ]
    },
    {
      "cell_type": "markdown",
      "source": [
        "Foram excluídas todas as linhas em que a pontuação estava zerada."
      ],
      "metadata": {
        "id": "4llVXXfzXh05"
      }
    },
    {
      "cell_type": "code",
      "source": [
        "# Excluindo as linhas com NaN\n",
        "\n",
        "df_Oscar_NaN = df_Oscar_NaN.dropna(subset=['rating'])\n",
        "\n",
        "# exibindo visualização matricial da nulidade do dataset\n",
        "ms.matrix(df_Oscar_NaN)"
      ],
      "metadata": {
        "colab": {
          "base_uri": "https://localhost:8080/",
          "height": 570
        },
        "id": "klKuH0PlQflM",
        "outputId": "8940d816-be7f-4072-e9ab-1132aff8cb18"
      },
      "execution_count": 24,
      "outputs": [
        {
          "output_type": "execute_result",
          "data": {
            "text/plain": [
              "<Axes: >"
            ]
          },
          "metadata": {},
          "execution_count": 24
        },
        {
          "output_type": "display_data",
          "data": {
            "text/plain": [
              "<Figure size 2500x1000 with 2 Axes>"
            ],
            "image/png": "[encoded data removed]"
          },
          "metadata": {}
        }
      ]
    },
    {
      "cell_type": "markdown",
      "source": [],
      "metadata": {
        "id": "pyNMxU0LYIni"
      }
    },
    {
      "cell_type": "code",
      "source": [
        "# Substituindo os valores NaN por zero\n",
        "df_Oscar_NaN = df_Oscar_NaN.fillna(0)\n",
        "\n",
        "# exibindo visualização matricial da nulidade do dataset\n",
        "ms.matrix(df_Oscar_NaN)"
      ],
      "metadata": {
        "colab": {
          "base_uri": "https://localhost:8080/",
          "height": 570
        },
        "id": "OL9fllWnYyjS",
        "outputId": "7fb03e59-93f9-4726-d5a9-3851361609fc"
      },
      "execution_count": 25,
      "outputs": [
        {
          "output_type": "execute_result",
          "data": {
            "text/plain": [
              "<Axes: >"
            ]
          },
          "metadata": {},
          "execution_count": 25
        },
        {
          "output_type": "display_data",
          "data": {
            "text/plain": [
              "<Figure size 2500x1000 with 2 Axes>"
            ],
            "image/png": "[encoded data removed]"
          },
          "metadata": {}
        }
      ]
    },
    {
      "cell_type": "code",
      "source": [
        "\n",
        "# Guardando o novo dataset para testes futuros\n",
        "df_Oscar_semNan = df_Oscar_NaN\n",
        "\n",
        "# exibindo as primeiras linhas\n",
        "df_Oscar_semNan.head()"
      ],
      "metadata": {
        "colab": {
          "base_uri": "https://localhost:8080/",
          "height": 206
        },
        "id": "dQ6luO5AUuqg",
        "outputId": "194a1551-a9a9-4888-9618-43c7958f62bf"
      },
      "execution_count": 26,
      "outputs": [
        {
          "output_type": "execute_result",
          "data": {
            "text/plain": [
              "                  name              film  winner    votes  rating   genre  \\\n",
              "0  Richard Barthelmess         The Noose     0.0   1128.0     7.7   Drama   \n",
              "1        Emil Jannings  The Last Command     1.0   4126.0     8.0   Drama   \n",
              "3         Janet Gaynor        7th Heaven     1.0  26070.0     5.2  Comedy   \n",
              "4       Gloria Swanson    Sadie Thompson     0.0   2743.0     7.2   Drama   \n",
              "5        Rochus Gliese           Sunrise     0.0    397.0     2.9    News   \n",
              "\n",
              "          region  \n",
              "0         Poland  \n",
              "1  United States  \n",
              "3  United States  \n",
              "4  United States  \n",
              "5      Australia  "
            ],
            "text/html": [
              "\n",
              "\n",
              "  <div id=\"df-4cee48c2-289d-4e3c-b782-3f361f58d8fe\">\n",
              "    <div class=\"colab-df-container\">\n",
              "      <div>\n",
              "<style scoped>\n",
              "    .dataframe tbody tr th:only-of-type {\n",
              "        vertical-align: middle;\n",
              "    }\n",
              "\n",
              "    .dataframe tbody tr th {\n",
              "        vertical-align: top;\n",
              "    }\n",
              "\n",
              "    .dataframe thead th {\n",
              "        text-align: right;\n",
              "    }\n",
              "</style>\n",
              "<table border=\"1\" class=\"dataframe\">\n",
              "  <thead>\n",
              "    <tr style=\"text-align: right;\">\n",
              "      <th></th>\n",
              "      <th>name</th>\n",
              "      <th>film</th>\n",
              "      <th>winner</th>\n",
              "      <th>votes</th>\n",
              "      <th>rating</th>\n",
              "      <th>genre</th>\n",
              "      <th>region</th>\n",
              "    </tr>\n",
              "  </thead>\n",
              "  <tbody>\n",
              "    <tr>\n",
              "      <th>0</th>\n",
              "      <td>Richard Barthelmess</td>\n",
              "      <td>The Noose</td>\n",
              "      <td>0.0</td>\n",
              "      <td>1128.0</td>\n",
              "      <td>7.7</td>\n",
              "      <td>Drama</td>\n",
              "      <td>Poland</td>\n",
              "    </tr>\n",
              "    <tr>\n",
              "      <th>1</th>\n",
              "      <td>Emil Jannings</td>\n",
              "      <td>The Last Command</td>\n",
              "      <td>1.0</td>\n",
              "      <td>4126.0</td>\n",
              "      <td>8.0</td>\n",
              "      <td>Drama</td>\n",
              "      <td>United States</td>\n",
              "    </tr>\n",
              "    <tr>\n",
              "      <th>3</th>\n",
              "      <td>Janet Gaynor</td>\n",
              "      <td>7th Heaven</td>\n",
              "      <td>1.0</td>\n",
              "      <td>26070.0</td>\n",
              "      <td>5.2</td>\n",
              "      <td>Comedy</td>\n",
              "      <td>United States</td>\n",
              "    </tr>\n",
              "    <tr>\n",
              "      <th>4</th>\n",
              "      <td>Gloria Swanson</td>\n",
              "      <td>Sadie Thompson</td>\n",
              "      <td>0.0</td>\n",
              "      <td>2743.0</td>\n",
              "      <td>7.2</td>\n",
              "      <td>Drama</td>\n",
              "      <td>United States</td>\n",
              "    </tr>\n",
              "    <tr>\n",
              "      <th>5</th>\n",
              "      <td>Rochus Gliese</td>\n",
              "      <td>Sunrise</td>\n",
              "      <td>0.0</td>\n",
              "      <td>397.0</td>\n",
              "      <td>2.9</td>\n",
              "      <td>News</td>\n",
              "      <td>Australia</td>\n",
              "    </tr>\n",
              "  </tbody>\n",
              "</table>\n",
              "</div>\n",
              "      <button class=\"colab-df-convert\" onclick=\"convertToInteractive('df-4cee48c2-289d-4e3c-b782-3f361f58d8fe')\"\n",
              "              title=\"Convert this dataframe to an interactive table.\"\n",
              "              style=\"display:none;\">\n",
              "\n",
              "  <svg xmlns=\"http://www.w3.org/2000/svg\" height=\"24px\"viewBox=\"0 0 24 24\"\n",
              "       width=\"24px\">\n",
              "    <path d=\"M0 0h24v24H0V0z\" fill=\"none\"/>\n",
              "    <path d=\"M18.56 5.44l.94 2.06.94-2.06 2.06-.94-2.06-.94-.94-2.06-.94 2.06-2.06.94zm-11 1L8.5 8.5l.94-2.06 2.06-.94-2.06-.94L8.5 2.5l-.94 2.06-2.06.94zm10 10l.94 2.06.94-2.06 2.06-.94-2.06-.94-.94-2.06-.94 2.06-2.06.94z\"/><path d=\"M17.41 7.96l-1.37-1.37c-.4-.4-.92-.59-1.43-.59-.52 0-1.04.2-1.43.59L10.3 9.45l-7.72 7.72c-.78.78-.78 2.05 0 2.83L4 21.41c.39.39.9.59 1.41.59.51 0 1.02-.2 1.41-.59l7.78-7.78 2.81-2.81c.8-.78.8-2.07 0-2.86zM5.41 20L4 18.59l7.72-7.72 1.47 1.35L5.41 20z\"/>\n",
              "  </svg>\n",
              "      </button>\n",
              "\n",
              "\n",
              "\n",
              "    <div id=\"df-ab37bef3-ed51-410f-a7de-6e082493a628\">\n",
              "      <button class=\"colab-df-quickchart\" onclick=\"quickchart('df-ab37bef3-ed51-410f-a7de-6e082493a628')\"\n",
              "              title=\"Suggest charts.\"\n",
              "              style=\"display:none;\">\n",
              "\n",
              "<svg xmlns=\"http://www.w3.org/2000/svg\" height=\"24px\"viewBox=\"0 0 24 24\"\n",
              "     width=\"24px\">\n",
              "    <g>\n",
              "        <path d=\"M19 3H5c-1.1 0-2 .9-2 2v14c0 1.1.9 2 2 2h14c1.1 0 2-.9 2-2V5c0-1.1-.9-2-2-2zM9 17H7v-7h2v7zm4 0h-2V7h2v10zm4 0h-2v-4h2v4z\"/>\n",
              "    </g>\n",
              "</svg>\n",
              "      </button>\n",
              "    </div>\n",
              "\n",
              "<style>\n",
              "  .colab-df-quickchart {\n",
              "    background-color: #E8F0FE;\n",
              "    border: none;\n",
              "    border-radius: 50%;\n",
              "    cursor: pointer;\n",
              "    display: none;\n",
              "    fill: #1967D2;\n",
              "    height: 32px;\n",
              "    padding: 0 0 0 0;\n",
              "    width: 32px;\n",
              "  }\n",
              "\n",
              "  .colab-df-quickchart:hover {\n",
              "    background-color: #E2EBFA;\n",
              "    box-shadow: 0px 1px 2px rgba(60, 64, 67, 0.3), 0px 1px 3px 1px rgba(60, 64, 67, 0.15);\n",
              "    fill: #174EA6;\n",
              "  }\n",
              "\n",
              "  [theme=dark] .colab-df-quickchart {\n",
              "    background-color: #3B4455;\n",
              "    fill: #D2E3FC;\n",
              "  }\n",
              "\n",
              "  [theme=dark] .colab-df-quickchart:hover {\n",
              "    background-color: #434B5C;\n",
              "    box-shadow: 0px 1px 3px 1px rgba(0, 0, 0, 0.15);\n",
              "    filter: drop-shadow(0px 1px 2px rgba(0, 0, 0, 0.3));\n",
              "    fill: #FFFFFF;\n",
              "  }\n",
              "</style>\n",
              "\n",
              "    <script>\n",
              "      async function quickchart(key) {\n",
              "        const containerElement = document.querySelector('#' + key);\n",
              "        const charts = await google.colab.kernel.invokeFunction(\n",
              "            'suggestCharts', [key], {});\n",
              "      }\n",
              "    </script>\n",
              "\n",
              "      <script>\n",
              "\n",
              "function displayQuickchartButton(domScope) {\n",
              "  let quickchartButtonEl =\n",
              "    domScope.querySelector('#df-ab37bef3-ed51-410f-a7de-6e082493a628 button.colab-df-quickchart');\n",
              "  quickchartButtonEl.style.display =\n",
              "    google.colab.kernel.accessAllowed ? 'block' : 'none';\n",
              "}\n",
              "\n",
              "        displayQuickchartButton(document);\n",
              "      </script>\n",
              "      <style>\n",
              "    .colab-df-container {\n",
              "      display:flex;\n",
              "      flex-wrap:wrap;\n",
              "      gap: 12px;\n",
              "    }\n",
              "\n",
              "    .colab-df-convert {\n",
              "      background-color: #E8F0FE;\n",
              "      border: none;\n",
              "      border-radius: 50%;\n",
              "      cursor: pointer;\n",
              "      display: none;\n",
              "      fill: #1967D2;\n",
              "      height: 32px;\n",
              "      padding: 0 0 0 0;\n",
              "      width: 32px;\n",
              "    }\n",
              "\n",
              "    .colab-df-convert:hover {\n",
              "      background-color: #E2EBFA;\n",
              "      box-shadow: 0px 1px 2px rgba(60, 64, 67, 0.3), 0px 1px 3px 1px rgba(60, 64, 67, 0.15);\n",
              "      fill: #174EA6;\n",
              "    }\n",
              "\n",
              "    [theme=dark] .colab-df-convert {\n",
              "      background-color: #3B4455;\n",
              "      fill: #D2E3FC;\n",
              "    }\n",
              "\n",
              "    [theme=dark] .colab-df-convert:hover {\n",
              "      background-color: #434B5C;\n",
              "      box-shadow: 0px 1px 3px 1px rgba(0, 0, 0, 0.15);\n",
              "      filter: drop-shadow(0px 1px 2px rgba(0, 0, 0, 0.3));\n",
              "      fill: #FFFFFF;\n",
              "    }\n",
              "  </style>\n",
              "\n",
              "      <script>\n",
              "        const buttonEl =\n",
              "          document.querySelector('#df-4cee48c2-289d-4e3c-b782-3f361f58d8fe button.colab-df-convert');\n",
              "        buttonEl.style.display =\n",
              "          google.colab.kernel.accessAllowed ? 'block' : 'none';\n",
              "\n",
              "        async function convertToInteractive(key) {\n",
              "          const element = document.querySelector('#df-4cee48c2-289d-4e3c-b782-3f361f58d8fe');\n",
              "          const dataTable =\n",
              "            await google.colab.kernel.invokeFunction('convertToInteractive',\n",
              "                                                     [key], {});\n",
              "          if (!dataTable) return;\n",
              "\n",
              "          const docLinkHtml = 'Like what you see? Visit the ' +\n",
              "            '<a target=\"_blank\" href=https://colab.research.google.com/notebooks/data_table.ipynb>data table notebook</a>'\n",
              "            + ' to learn more about interactive tables.';\n",
              "          element.innerHTML = '';\n",
              "          dataTable['output_type'] = 'display_data';\n",
              "          await google.colab.output.renderOutput(dataTable, element);\n",
              "          const docLink = document.createElement('div');\n",
              "          docLink.innerHTML = docLinkHtml;\n",
              "          element.appendChild(docLink);\n",
              "        }\n",
              "      </script>\n",
              "    </div>\n",
              "  </div>\n"
            ]
          },
          "metadata": {},
          "execution_count": 26
        }
      ]
    },
    {
      "cell_type": "markdown",
      "source": [
        "#### **4.1.3 Transformações numéricas**"
      ],
      "metadata": {
        "id": "3Rv2yqobdFSX"
      }
    },
    {
      "cell_type": "markdown",
      "source": [
        "Vamos trazer novamente um resumo estatístico de nosso dataset."
      ],
      "metadata": {
        "id": "bVZNf6XHf0nh"
      }
    },
    {
      "cell_type": "code",
      "source": [
        "# Faz um resumo estatístico do dataset df_Oscar_semNan (média, desvio padrão, mínimo, máximo e os quartis)\n",
        "df_Oscar_semNan.describe()"
      ],
      "metadata": {
        "colab": {
          "base_uri": "https://localhost:8080/",
          "height": 300
        },
        "id": "xVA8UgsIf4cz",
        "outputId": "d9b56b0f-45b9-4d33-8e77-7af77ff0810c"
      },
      "execution_count": 27,
      "outputs": [
        {
          "output_type": "execute_result",
          "data": {
            "text/plain": [
              "            winner         votes       rating\n",
              "count  8841.000000  8.841000e+03  8841.000000\n",
              "mean      0.213324  1.689443e+05     7.276394\n",
              "std       0.409678  3.303675e+05     0.740477\n",
              "min       0.000000  1.100000e+02     2.800000\n",
              "25%       0.000000  4.593000e+03     6.900000\n",
              "50%       0.000000  2.432900e+04     7.300000\n",
              "75%       0.000000  1.752170e+05     7.800000\n",
              "max       1.000000  2.715939e+06     9.300000"
            ],
            "text/html": [
              "\n",
              "\n",
              "  <div id=\"df-fa0f53eb-b6bd-4184-972b-4493bdc88bbe\">\n",
              "    <div class=\"colab-df-container\">\n",
              "      <div>\n",
              "<style scoped>\n",
              "    .dataframe tbody tr th:only-of-type {\n",
              "        vertical-align: middle;\n",
              "    }\n",
              "\n",
              "    .dataframe tbody tr th {\n",
              "        vertical-align: top;\n",
              "    }\n",
              "\n",
              "    .dataframe thead th {\n",
              "        text-align: right;\n",
              "    }\n",
              "</style>\n",
              "<table border=\"1\" class=\"dataframe\">\n",
              "  <thead>\n",
              "    <tr style=\"text-align: right;\">\n",
              "      <th></th>\n",
              "      <th>winner</th>\n",
              "      <th>votes</th>\n",
              "      <th>rating</th>\n",
              "    </tr>\n",
              "  </thead>\n",
              "  <tbody>\n",
              "    <tr>\n",
              "      <th>count</th>\n",
              "      <td>8841.000000</td>\n",
              "      <td>8.841000e+03</td>\n",
              "      <td>8841.000000</td>\n",
              "    </tr>\n",
              "    <tr>\n",
              "      <th>mean</th>\n",
              "      <td>0.213324</td>\n",
              "      <td>1.689443e+05</td>\n",
              "      <td>7.276394</td>\n",
              "    </tr>\n",
              "    <tr>\n",
              "      <th>std</th>\n",
              "      <td>0.409678</td>\n",
              "      <td>3.303675e+05</td>\n",
              "      <td>0.740477</td>\n",
              "    </tr>\n",
              "    <tr>\n",
              "      <th>min</th>\n",
              "      <td>0.000000</td>\n",
              "      <td>1.100000e+02</td>\n",
              "      <td>2.800000</td>\n",
              "    </tr>\n",
              "    <tr>\n",
              "      <th>25%</th>\n",
              "      <td>0.000000</td>\n",
              "      <td>4.593000e+03</td>\n",
              "      <td>6.900000</td>\n",
              "    </tr>\n",
              "    <tr>\n",
              "      <th>50%</th>\n",
              "      <td>0.000000</td>\n",
              "      <td>2.432900e+04</td>\n",
              "      <td>7.300000</td>\n",
              "    </tr>\n",
              "    <tr>\n",
              "      <th>75%</th>\n",
              "      <td>0.000000</td>\n",
              "      <td>1.752170e+05</td>\n",
              "      <td>7.800000</td>\n",
              "    </tr>\n",
              "    <tr>\n",
              "      <th>max</th>\n",
              "      <td>1.000000</td>\n",
              "      <td>2.715939e+06</td>\n",
              "      <td>9.300000</td>\n",
              "    </tr>\n",
              "  </tbody>\n",
              "</table>\n",
              "</div>\n",
              "      <button class=\"colab-df-convert\" onclick=\"convertToInteractive('df-fa0f53eb-b6bd-4184-972b-4493bdc88bbe')\"\n",
              "              title=\"Convert this dataframe to an interactive table.\"\n",
              "              style=\"display:none;\">\n",
              "\n",
              "  <svg xmlns=\"http://www.w3.org/2000/svg\" height=\"24px\"viewBox=\"0 0 24 24\"\n",
              "       width=\"24px\">\n",
              "    <path d=\"M0 0h24v24H0V0z\" fill=\"none\"/>\n",
              "    <path d=\"M18.56 5.44l.94 2.06.94-2.06 2.06-.94-2.06-.94-.94-2.06-.94 2.06-2.06.94zm-11 1L8.5 8.5l.94-2.06 2.06-.94-2.06-.94L8.5 2.5l-.94 2.06-2.06.94zm10 10l.94 2.06.94-2.06 2.06-.94-2.06-.94-.94-2.06-.94 2.06-2.06.94z\"/><path d=\"M17.41 7.96l-1.37-1.37c-.4-.4-.92-.59-1.43-.59-.52 0-1.04.2-1.43.59L10.3 9.45l-7.72 7.72c-.78.78-.78 2.05 0 2.83L4 21.41c.39.39.9.59 1.41.59.51 0 1.02-.2 1.41-.59l7.78-7.78 2.81-2.81c.8-.78.8-2.07 0-2.86zM5.41 20L4 18.59l7.72-7.72 1.47 1.35L5.41 20z\"/>\n",
              "  </svg>\n",
              "      </button>\n",
              "\n",
              "\n",
              "\n",
              "    <div id=\"df-63f8b71f-a1c7-46e6-8dda-f21e905a4f1d\">\n",
              "      <button class=\"colab-df-quickchart\" onclick=\"quickchart('df-63f8b71f-a1c7-46e6-8dda-f21e905a4f1d')\"\n",
              "              title=\"Suggest charts.\"\n",
              "              style=\"display:none;\">\n",
              "\n",
              "<svg xmlns=\"http://www.w3.org/2000/svg\" height=\"24px\"viewBox=\"0 0 24 24\"\n",
              "     width=\"24px\">\n",
              "    <g>\n",
              "        <path d=\"M19 3H5c-1.1 0-2 .9-2 2v14c0 1.1.9 2 2 2h14c1.1 0 2-.9 2-2V5c0-1.1-.9-2-2-2zM9 17H7v-7h2v7zm4 0h-2V7h2v10zm4 0h-2v-4h2v4z\"/>\n",
              "    </g>\n",
              "</svg>\n",
              "      </button>\n",
              "    </div>\n",
              "\n",
              "<style>\n",
              "  .colab-df-quickchart {\n",
              "    background-color: #E8F0FE;\n",
              "    border: none;\n",
              "    border-radius: 50%;\n",
              "    cursor: pointer;\n",
              "    display: none;\n",
              "    fill: #1967D2;\n",
              "    height: 32px;\n",
              "    padding: 0 0 0 0;\n",
              "    width: 32px;\n",
              "  }\n",
              "\n",
              "  .colab-df-quickchart:hover {\n",
              "    background-color: #E2EBFA;\n",
              "    box-shadow: 0px 1px 2px rgba(60, 64, 67, 0.3), 0px 1px 3px 1px rgba(60, 64, 67, 0.15);\n",
              "    fill: #174EA6;\n",
              "  }\n",
              "\n",
              "  [theme=dark] .colab-df-quickchart {\n",
              "    background-color: #3B4455;\n",
              "    fill: #D2E3FC;\n",
              "  }\n",
              "\n",
              "  [theme=dark] .colab-df-quickchart:hover {\n",
              "    background-color: #434B5C;\n",
              "    box-shadow: 0px 1px 3px 1px rgba(0, 0, 0, 0.15);\n",
              "    filter: drop-shadow(0px 1px 2px rgba(0, 0, 0, 0.3));\n",
              "    fill: #FFFFFF;\n",
              "  }\n",
              "</style>\n",
              "\n",
              "    <script>\n",
              "      async function quickchart(key) {\n",
              "        const containerElement = document.querySelector('#' + key);\n",
              "        const charts = await google.colab.kernel.invokeFunction(\n",
              "            'suggestCharts', [key], {});\n",
              "      }\n",
              "    </script>\n",
              "\n",
              "      <script>\n",
              "\n",
              "function displayQuickchartButton(domScope) {\n",
              "  let quickchartButtonEl =\n",
              "    domScope.querySelector('#df-63f8b71f-a1c7-46e6-8dda-f21e905a4f1d button.colab-df-quickchart');\n",
              "  quickchartButtonEl.style.display =\n",
              "    google.colab.kernel.accessAllowed ? 'block' : 'none';\n",
              "}\n",
              "\n",
              "        displayQuickchartButton(document);\n",
              "      </script>\n",
              "      <style>\n",
              "    .colab-df-container {\n",
              "      display:flex;\n",
              "      flex-wrap:wrap;\n",
              "      gap: 12px;\n",
              "    }\n",
              "\n",
              "    .colab-df-convert {\n",
              "      background-color: #E8F0FE;\n",
              "      border: none;\n",
              "      border-radius: 50%;\n",
              "      cursor: pointer;\n",
              "      display: none;\n",
              "      fill: #1967D2;\n",
              "      height: 32px;\n",
              "      padding: 0 0 0 0;\n",
              "      width: 32px;\n",
              "    }\n",
              "\n",
              "    .colab-df-convert:hover {\n",
              "      background-color: #E2EBFA;\n",
              "      box-shadow: 0px 1px 2px rgba(60, 64, 67, 0.3), 0px 1px 3px 1px rgba(60, 64, 67, 0.15);\n",
              "      fill: #174EA6;\n",
              "    }\n",
              "\n",
              "    [theme=dark] .colab-df-convert {\n",
              "      background-color: #3B4455;\n",
              "      fill: #D2E3FC;\n",
              "    }\n",
              "\n",
              "    [theme=dark] .colab-df-convert:hover {\n",
              "      background-color: #434B5C;\n",
              "      box-shadow: 0px 1px 3px 1px rgba(0, 0, 0, 0.15);\n",
              "      filter: drop-shadow(0px 1px 2px rgba(0, 0, 0, 0.3));\n",
              "      fill: #FFFFFF;\n",
              "    }\n",
              "  </style>\n",
              "\n",
              "      <script>\n",
              "        const buttonEl =\n",
              "          document.querySelector('#df-fa0f53eb-b6bd-4184-972b-4493bdc88bbe button.colab-df-convert');\n",
              "        buttonEl.style.display =\n",
              "          google.colab.kernel.accessAllowed ? 'block' : 'none';\n",
              "\n",
              "        async function convertToInteractive(key) {\n",
              "          const element = document.querySelector('#df-fa0f53eb-b6bd-4184-972b-4493bdc88bbe');\n",
              "          const dataTable =\n",
              "            await google.colab.kernel.invokeFunction('convertToInteractive',\n",
              "                                                     [key], {});\n",
              "          if (!dataTable) return;\n",
              "\n",
              "          const docLinkHtml = 'Like what you see? Visit the ' +\n",
              "            '<a target=\"_blank\" href=https://colab.research.google.com/notebooks/data_table.ipynb>data table notebook</a>'\n",
              "            + ' to learn more about interactive tables.';\n",
              "          element.innerHTML = '';\n",
              "          dataTable['output_type'] = 'display_data';\n",
              "          await google.colab.output.renderOutput(dataTable, element);\n",
              "          const docLink = document.createElement('div');\n",
              "          docLink.innerHTML = docLinkHtml;\n",
              "          element.appendChild(docLink);\n",
              "        }\n",
              "      </script>\n",
              "    </div>\n",
              "  </div>\n"
            ]
          },
          "metadata": {},
          "execution_count": 27
        }
      ]
    },
    {
      "cell_type": "markdown",
      "source": [
        "Quando olhamos a tabela fica mais fácil observar se existe discrepância entre os valores.\n",
        "\n",
        "A coluna quantidade de votos possui uma granularidade muito maior que a coluna rating. Portanto será necessário aplicar os processos de Normalização e Padronização dos dados.\n",
        "\n",
        "Mas para isso antes iremos salvar uma cópia de nosso dataset que agora será chamado **df_Oscar_padronizado**."
      ],
      "metadata": {
        "id": "ouLe0wzbmeGw"
      }
    },
    {
      "cell_type": "code",
      "source": [
        "# Guardando o novo dataset para testes futuros com Padronização\n",
        "df_Oscar_padronizado = df_Oscar_semNan"
      ],
      "metadata": {
        "id": "3aHbFzG2d4u5"
      },
      "execution_count": 28,
      "outputs": []
    },
    {
      "cell_type": "markdown",
      "source": [
        "A Padronização e a Normalização devem apenas ser aplicadas aos valores dos nossos atributos previsores."
      ],
      "metadata": {
        "id": "-UGqjjVweXjg"
      }
    },
    {
      "cell_type": "code",
      "source": [
        "# Separando os valores do dataset em componentes de input (X) e output (Y)\n",
        "X = df_Oscar_padronizado.values[:,3:5]\n",
        "Y = df_Oscar_padronizado.values[:,2]"
      ],
      "metadata": {
        "id": "toahHmS5erwb"
      },
      "execution_count": 29,
      "outputs": []
    },
    {
      "cell_type": "markdown",
      "source": [
        "**Padronização**\n",
        "\n",
        "Se um atributo tem uma variância que tem uma ordem de grandeza maior do que outras, ela pode dominar todo o processo e tornar o projeto incapaz de aprender com outras características corretamente.\n",
        "\n",
        "Resumindo, o modelo pode colocar mais peso nas variáveis que possuem maior escala e acabar desconsiderando variáveis com menor escala, mas que sejam igualmente ou mais importantes\n",
        "\n",
        "O objetivo da Padronizaão é colocar todos os nossos recursos em escalas próximas para que o modelo entenda cada um deles como igualmente importantes.\n",
        "\n",
        "\n"
      ],
      "metadata": {
        "id": "VLyiQQzzfcZL"
      }
    },
    {
      "cell_type": "code",
      "source": [
        "# Padronizando os dados\n",
        "rescaledX = StandardScaler().fit_transform(X)\n",
        "\n",
        "# Exibindo os dados transformados\n",
        "print(\"Dados Originais: \\n\\n\",df_Oscar_padronizado[['votes', 'rating']].values)\n",
        "print(\"\\nDados Padronizados (não inclui a coluna winner): \\n\\n\", rescaledX)"
      ],
      "metadata": {
        "id": "hRhe6bbvcXE1",
        "colab": {
          "base_uri": "https://localhost:8080/"
        },
        "outputId": "f3f0b869-838d-4a63-b8ab-bf32e2860237"
      },
      "execution_count": 30,
      "outputs": [
        {
          "output_type": "stream",
          "name": "stdout",
          "text": [
            "Dados Originais: \n",
            "\n",
            " [[1.12800e+03 7.70000e+00]\n",
            " [4.12600e+03 8.00000e+00]\n",
            " [2.60700e+04 5.20000e+00]\n",
            " ...\n",
            " [5.97950e+04 7.50000e+00]\n",
            " [1.07723e+05 7.40000e+00]\n",
            " [2.96700e+03 7.90000e+00]]\n",
            "\n",
            "Dados Padronizados (não inclui a coluna winner): \n",
            "\n",
            " [[-0.50799728  0.57210424]\n",
            " [-0.49892202  0.97727154]\n",
            " [-0.43249526 -2.80428995]\n",
            " ...\n",
            " [-0.33040618  0.3019927 ]\n",
            " [-0.18532316  0.16693693]\n",
            " [-0.50243044  0.84221577]]\n"
          ]
        }
      ]
    },
    {
      "cell_type": "markdown",
      "source": [
        "**Normalização**\n",
        "\n",
        "\n",
        "Observe que a normalização nada mais é do que colocarmos a média muito próxima a zero e do desvio padrão muito próxima a 1."
      ],
      "metadata": {
        "id": "39NVMPOIftyY"
      }
    },
    {
      "cell_type": "markdown",
      "source": [
        "Antes de efetuar a Normalização dos dados, vamos fazer outra cópia de nosso data set, para fins de teste, que agora será chamada **df_Oscar_normalizado**."
      ],
      "metadata": {
        "id": "Yoyw85Yrf4Ey"
      }
    },
    {
      "cell_type": "code",
      "source": [
        "# Guardando o novo dataset para testes futuros com Normalização\n",
        "df_Oscar_normalizado = df_Oscar_padronizado\n",
        "\n",
        "# Separando os valores do dataset em componentes de input (X) e output (Y)\n",
        "X = df_Oscar_normalizado.values[:,3:5]\n",
        "Y = df_Oscar_normalizado.values[:,2]"
      ],
      "metadata": {
        "id": "nxj-2GdJgXBV"
      },
      "execution_count": 31,
      "outputs": []
    },
    {
      "cell_type": "code",
      "source": [
        "# Normalizando os dados\n",
        "rescaledX = MinMaxScaler().fit_transform(X)\n",
        "\n",
        "# Exibindo os dados transformados\n",
        "print(\"Dados Originais: \\n\\n\",df_Oscar_normalizado[['votes', 'rating']].values)\n",
        "print(\"\\nDados Padronizados (não inclui a coluna winner): \\n\\n\", rescaledX)"
      ],
      "metadata": {
        "id": "fWfupcMqce1D",
        "colab": {
          "base_uri": "https://localhost:8080/"
        },
        "outputId": "c3843b11-20e8-4606-b7cb-a8cf1b7b3b22"
      },
      "execution_count": 32,
      "outputs": [
        {
          "output_type": "stream",
          "name": "stdout",
          "text": [
            "Dados Originais: \n",
            "\n",
            " [[1.12800e+03 7.70000e+00]\n",
            " [4.12600e+03 8.00000e+00]\n",
            " [2.60700e+04 5.20000e+00]\n",
            " ...\n",
            " [5.97950e+04 7.50000e+00]\n",
            " [1.07723e+05 7.40000e+00]\n",
            " [2.96700e+03 7.90000e+00]]\n",
            "\n",
            "Dados Padronizados (não inclui a coluna winner): \n",
            "\n",
            " [[3.74839506e-04 7.53846154e-01]\n",
            " [1.47873817e-03 8.00000000e-01]\n",
            " [9.55877561e-03 3.69230769e-01]\n",
            " ...\n",
            " [2.19767150e-02 7.23076923e-01]\n",
            " [3.96243652e-02 7.07692308e-01]\n",
            " [1.05198081e-03 7.84615385e-01]]\n"
          ]
        }
      ]
    },
    {
      "cell_type": "markdown",
      "source": [
        "#### **4.1.4 Transformações categóricas**"
      ],
      "metadata": {
        "id": "X00R93g5c4c3"
      }
    },
    {
      "cell_type": "markdown",
      "source": [
        "Não houve necessidade de transformações categóricas."
      ],
      "metadata": {
        "id": "jOyTCRb-fKAI"
      }
    },
    {
      "cell_type": "markdown",
      "source": [
        "## **5. Separação em conjunto de treino e conjunto de teste com holdout**"
      ],
      "metadata": {
        "id": "UY6s3CMYewsY"
      }
    },
    {
      "cell_type": "markdown",
      "source": [
        "\n",
        "Iremos agora separar nosso conjunto de treino e o conjunto de teste. Usaremos 80% do conjunto de dados para modelagem e guardaremos 20% para teste, usando a estratégia train-test-split.\n",
        "\n",
        "Primeiramente, iremos sinalizar quais são as colunas de atributos (X - votes e rating) e qual é a coluna das classes (Y - winner).\n",
        "\n",
        "Em seguida, especificaremos o tamanho do conjunto de teste desejado. Finalmente, faremos a separação dos conjuntos de treino e teste através do comando train_test_split, que retornará 4 estruturas de dados: os atributos e classes para o conjunto de teste e os atributos e classes para o conjunto de treino."
      ],
      "metadata": {
        "id": "3STQe4xhVxnE"
      }
    },
    {
      "cell_type": "code",
      "source": [
        "# Excluindo as Colunas name, film, genre e region\n",
        "df_Oscar_final = df_Oscar_semNan.drop(['name', 'film', 'genre', 'region'], axis=1)\n",
        "\n",
        "# exibindo as primeiras linhas\n",
        "df_Oscar_final.head()\n"
      ],
      "metadata": {
        "colab": {
          "base_uri": "https://localhost:8080/",
          "height": 206
        },
        "id": "_xGAibJ7CGFg",
        "outputId": "83b9719c-e3ac-4ea3-807a-079311c21cd2"
      },
      "execution_count": 33,
      "outputs": [
        {
          "output_type": "execute_result",
          "data": {
            "text/plain": [
              "   winner    votes  rating\n",
              "0     0.0   1128.0     7.7\n",
              "1     1.0   4126.0     8.0\n",
              "3     1.0  26070.0     5.2\n",
              "4     0.0   2743.0     7.2\n",
              "5     0.0    397.0     2.9"
            ],
            "text/html": [
              "\n",
              "\n",
              "  <div id=\"df-4d1f5ec0-2730-4752-ac5b-a6c515822ad2\">\n",
              "    <div class=\"colab-df-container\">\n",
              "      <div>\n",
              "<style scoped>\n",
              "    .dataframe tbody tr th:only-of-type {\n",
              "        vertical-align: middle;\n",
              "    }\n",
              "\n",
              "    .dataframe tbody tr th {\n",
              "        vertical-align: top;\n",
              "    }\n",
              "\n",
              "    .dataframe thead th {\n",
              "        text-align: right;\n",
              "    }\n",
              "</style>\n",
              "<table border=\"1\" class=\"dataframe\">\n",
              "  <thead>\n",
              "    <tr style=\"text-align: right;\">\n",
              "      <th></th>\n",
              "      <th>winner</th>\n",
              "      <th>votes</th>\n",
              "      <th>rating</th>\n",
              "    </tr>\n",
              "  </thead>\n",
              "  <tbody>\n",
              "    <tr>\n",
              "      <th>0</th>\n",
              "      <td>0.0</td>\n",
              "      <td>1128.0</td>\n",
              "      <td>7.7</td>\n",
              "    </tr>\n",
              "    <tr>\n",
              "      <th>1</th>\n",
              "      <td>1.0</td>\n",
              "      <td>4126.0</td>\n",
              "      <td>8.0</td>\n",
              "    </tr>\n",
              "    <tr>\n",
              "      <th>3</th>\n",
              "      <td>1.0</td>\n",
              "      <td>26070.0</td>\n",
              "      <td>5.2</td>\n",
              "    </tr>\n",
              "    <tr>\n",
              "      <th>4</th>\n",
              "      <td>0.0</td>\n",
              "      <td>2743.0</td>\n",
              "      <td>7.2</td>\n",
              "    </tr>\n",
              "    <tr>\n",
              "      <th>5</th>\n",
              "      <td>0.0</td>\n",
              "      <td>397.0</td>\n",
              "      <td>2.9</td>\n",
              "    </tr>\n",
              "  </tbody>\n",
              "</table>\n",
              "</div>\n",
              "      <button class=\"colab-df-convert\" onclick=\"convertToInteractive('df-4d1f5ec0-2730-4752-ac5b-a6c515822ad2')\"\n",
              "              title=\"Convert this dataframe to an interactive table.\"\n",
              "              style=\"display:none;\">\n",
              "\n",
              "  <svg xmlns=\"http://www.w3.org/2000/svg\" height=\"24px\"viewBox=\"0 0 24 24\"\n",
              "       width=\"24px\">\n",
              "    <path d=\"M0 0h24v24H0V0z\" fill=\"none\"/>\n",
              "    <path d=\"M18.56 5.44l.94 2.06.94-2.06 2.06-.94-2.06-.94-.94-2.06-.94 2.06-2.06.94zm-11 1L8.5 8.5l.94-2.06 2.06-.94-2.06-.94L8.5 2.5l-.94 2.06-2.06.94zm10 10l.94 2.06.94-2.06 2.06-.94-2.06-.94-.94-2.06-.94 2.06-2.06.94z\"/><path d=\"M17.41 7.96l-1.37-1.37c-.4-.4-.92-.59-1.43-.59-.52 0-1.04.2-1.43.59L10.3 9.45l-7.72 7.72c-.78.78-.78 2.05 0 2.83L4 21.41c.39.39.9.59 1.41.59.51 0 1.02-.2 1.41-.59l7.78-7.78 2.81-2.81c.8-.78.8-2.07 0-2.86zM5.41 20L4 18.59l7.72-7.72 1.47 1.35L5.41 20z\"/>\n",
              "  </svg>\n",
              "      </button>\n",
              "\n",
              "\n",
              "\n",
              "    <div id=\"df-d11f6350-bf25-4af3-b399-302a8a0c127f\">\n",
              "      <button class=\"colab-df-quickchart\" onclick=\"quickchart('df-d11f6350-bf25-4af3-b399-302a8a0c127f')\"\n",
              "              title=\"Suggest charts.\"\n",
              "              style=\"display:none;\">\n",
              "\n",
              "<svg xmlns=\"http://www.w3.org/2000/svg\" height=\"24px\"viewBox=\"0 0 24 24\"\n",
              "     width=\"24px\">\n",
              "    <g>\n",
              "        <path d=\"M19 3H5c-1.1 0-2 .9-2 2v14c0 1.1.9 2 2 2h14c1.1 0 2-.9 2-2V5c0-1.1-.9-2-2-2zM9 17H7v-7h2v7zm4 0h-2V7h2v10zm4 0h-2v-4h2v4z\"/>\n",
              "    </g>\n",
              "</svg>\n",
              "      </button>\n",
              "    </div>\n",
              "\n",
              "<style>\n",
              "  .colab-df-quickchart {\n",
              "    background-color: #E8F0FE;\n",
              "    border: none;\n",
              "    border-radius: 50%;\n",
              "    cursor: pointer;\n",
              "    display: none;\n",
              "    fill: #1967D2;\n",
              "    height: 32px;\n",
              "    padding: 0 0 0 0;\n",
              "    width: 32px;\n",
              "  }\n",
              "\n",
              "  .colab-df-quickchart:hover {\n",
              "    background-color: #E2EBFA;\n",
              "    box-shadow: 0px 1px 2px rgba(60, 64, 67, 0.3), 0px 1px 3px 1px rgba(60, 64, 67, 0.15);\n",
              "    fill: #174EA6;\n",
              "  }\n",
              "\n",
              "  [theme=dark] .colab-df-quickchart {\n",
              "    background-color: #3B4455;\n",
              "    fill: #D2E3FC;\n",
              "  }\n",
              "\n",
              "  [theme=dark] .colab-df-quickchart:hover {\n",
              "    background-color: #434B5C;\n",
              "    box-shadow: 0px 1px 3px 1px rgba(0, 0, 0, 0.15);\n",
              "    filter: drop-shadow(0px 1px 2px rgba(0, 0, 0, 0.3));\n",
              "    fill: #FFFFFF;\n",
              "  }\n",
              "</style>\n",
              "\n",
              "    <script>\n",
              "      async function quickchart(key) {\n",
              "        const containerElement = document.querySelector('#' + key);\n",
              "        const charts = await google.colab.kernel.invokeFunction(\n",
              "            'suggestCharts', [key], {});\n",
              "      }\n",
              "    </script>\n",
              "\n",
              "      <script>\n",
              "\n",
              "function displayQuickchartButton(domScope) {\n",
              "  let quickchartButtonEl =\n",
              "    domScope.querySelector('#df-d11f6350-bf25-4af3-b399-302a8a0c127f button.colab-df-quickchart');\n",
              "  quickchartButtonEl.style.display =\n",
              "    google.colab.kernel.accessAllowed ? 'block' : 'none';\n",
              "}\n",
              "\n",
              "        displayQuickchartButton(document);\n",
              "      </script>\n",
              "      <style>\n",
              "    .colab-df-container {\n",
              "      display:flex;\n",
              "      flex-wrap:wrap;\n",
              "      gap: 12px;\n",
              "    }\n",
              "\n",
              "    .colab-df-convert {\n",
              "      background-color: #E8F0FE;\n",
              "      border: none;\n",
              "      border-radius: 50%;\n",
              "      cursor: pointer;\n",
              "      display: none;\n",
              "      fill: #1967D2;\n",
              "      height: 32px;\n",
              "      padding: 0 0 0 0;\n",
              "      width: 32px;\n",
              "    }\n",
              "\n",
              "    .colab-df-convert:hover {\n",
              "      background-color: #E2EBFA;\n",
              "      box-shadow: 0px 1px 2px rgba(60, 64, 67, 0.3), 0px 1px 3px 1px rgba(60, 64, 67, 0.15);\n",
              "      fill: #174EA6;\n",
              "    }\n",
              "\n",
              "    [theme=dark] .colab-df-convert {\n",
              "      background-color: #3B4455;\n",
              "      fill: #D2E3FC;\n",
              "    }\n",
              "\n",
              "    [theme=dark] .colab-df-convert:hover {\n",
              "      background-color: #434B5C;\n",
              "      box-shadow: 0px 1px 3px 1px rgba(0, 0, 0, 0.15);\n",
              "      filter: drop-shadow(0px 1px 2px rgba(0, 0, 0, 0.3));\n",
              "      fill: #FFFFFF;\n",
              "    }\n",
              "  </style>\n",
              "\n",
              "      <script>\n",
              "        const buttonEl =\n",
              "          document.querySelector('#df-4d1f5ec0-2730-4752-ac5b-a6c515822ad2 button.colab-df-convert');\n",
              "        buttonEl.style.display =\n",
              "          google.colab.kernel.accessAllowed ? 'block' : 'none';\n",
              "\n",
              "        async function convertToInteractive(key) {\n",
              "          const element = document.querySelector('#df-4d1f5ec0-2730-4752-ac5b-a6c515822ad2');\n",
              "          const dataTable =\n",
              "            await google.colab.kernel.invokeFunction('convertToInteractive',\n",
              "                                                     [key], {});\n",
              "          if (!dataTable) return;\n",
              "\n",
              "          const docLinkHtml = 'Like what you see? Visit the ' +\n",
              "            '<a target=\"_blank\" href=https://colab.research.google.com/notebooks/data_table.ipynb>data table notebook</a>'\n",
              "            + ' to learn more about interactive tables.';\n",
              "          element.innerHTML = '';\n",
              "          dataTable['output_type'] = 'display_data';\n",
              "          await google.colab.output.renderOutput(dataTable, element);\n",
              "          const docLink = document.createElement('div');\n",
              "          docLink.innerHTML = docLinkHtml;\n",
              "          element.appendChild(docLink);\n",
              "        }\n",
              "      </script>\n",
              "    </div>\n",
              "  </div>\n"
            ]
          },
          "metadata": {},
          "execution_count": 33
        }
      ]
    },
    {
      "cell_type": "code",
      "source": [
        "# Seleção para cada dataset (dataset original: df_Oscar_semNan)\n",
        "\n",
        "test_size = 0.20\n",
        "seed = 7\n",
        "\n",
        "# Separação em conjuntos de treino e teste (holdout)\n",
        "array = df_Oscar_final.values\n",
        "x = array[:,1:2] #atributos\n",
        "y = array[:,0] # classe (target)\n",
        "\n",
        "X_train, X_test, y_train, y_test = train_test_split(x, y,\n",
        "    test_size=test_size, shuffle=True, random_state=seed, stratify=y) # com estratificação\n",
        "\n",
        "# Parâmetros e partições da validação cruzada\n",
        "scoring = 'accuracy'\n",
        "num_particoes = 10\n",
        "kfold = StratifiedKFold(n_splits=num_particoes, shuffle=True, random_state=seed) # validação cruzada com estratificação"
      ],
      "metadata": {
        "id": "EslorACCV1Bd"
      },
      "execution_count": 34,
      "outputs": []
    },
    {
      "cell_type": "markdown",
      "source": [
        "## **6. Modelagem e Inferência**"
      ],
      "metadata": {
        "id": "RemrR6kVhljr"
      }
    },
    {
      "cell_type": "markdown",
      "source": [
        "Nessa seção, aplicaremos a etapa de modelagem e inferência, porém não temos conhecimento prévio sobre quais algoritmos terão um bom desempenho nesse conjunto de dados. Para isso, iremos utilizar a validação cruzada para treinar e avaliar os modelos, balizada pela métrica de acurácia. Como base nessa técnica, iremos avaliar os algoritmos com a configuração padrão de hiperparâmetros da biblioteca scikit-Learn.\n",
        "\n",
        "Nesta etapa vamos testar diversos modelos e escolher o mais adequado para resolver o problema em questão."
      ],
      "metadata": {
        "id": "mubjqnldhxbd"
      }
    },
    {
      "cell_type": "markdown",
      "source": [
        "### 6.1 Criação e avaliação de modelos: linha base"
      ],
      "metadata": {
        "id": "3dvBfpJjiq6Q"
      }
    },
    {
      "cell_type": "code",
      "source": [
        "np.random.seed(7) # definindo uma semente global\n",
        "\n",
        "# Lista que armazenará os modelos\n",
        "models = []\n",
        "\n",
        "# Criando os modelos e adicionando-os na lista de modelos\n",
        "models.append(('LR', LogisticRegression(max_iter=200)))\n",
        "models.append(('KNN', KNeighborsClassifier()))\n",
        "models.append(('CART', DecisionTreeClassifier()))\n",
        "models.append(('NB', GaussianNB()))\n",
        "models.append(('SVM', SVC()))\n",
        "\n",
        "# Definindo os parâmetros do classificador base para o BaggingClassifier\n",
        "base = DecisionTreeClassifier()\n",
        "num_trees = 100\n",
        "max_features = 3\n",
        "\n",
        "# Criando os modelos para o VotingClassifier\n",
        "bases = []\n",
        "model1 = LogisticRegression(max_iter=200)\n",
        "bases.append(('logistic', model1))\n",
        "model2 = DecisionTreeClassifier()\n",
        "bases.append(('cart', model2))\n",
        "model3 = SVC()\n",
        "bases.append(('svm', model3))\n",
        "\n",
        "# Criando os ensembles e adicionando-os na lista de modelos\n",
        "models.append(('Bagging', BaggingClassifier(base_estimator=base, n_estimators=num_trees)))\n",
        "models.append(('RF', RandomForestClassifier(n_estimators=num_trees, max_features=max_features)))\n",
        "models.append(('ET', ExtraTreesClassifier(n_estimators=num_trees, max_features=max_features)))\n",
        "models.append(('Ada', AdaBoostClassifier(n_estimators=num_trees)))\n",
        "models.append(('GB', GradientBoostingClassifier(n_estimators=num_trees)))\n",
        "models.append(('Voting', VotingClassifier(bases)))\n",
        "\n",
        "# Listas para armazenar os resultados\n",
        "results = []\n",
        "names = []\n",
        "\n",
        "# Avaliação dos modelos\n",
        "for name, model in models:\n",
        "    cv_results = cross_val_score(model, X_train, y_train, cv=kfold, scoring=scoring)\n",
        "    results.append(cv_results)\n",
        "    names.append(name)\n",
        "    msg = \"%s: %f (%f)\" % (name, cv_results.mean(), cv_results.std())\n",
        "    print(msg)\n",
        "\n",
        "# Boxplot de comparação dos modelos\n",
        "fig = plt.figure(figsize=(15,10))\n",
        "fig.suptitle('Comparação dos Modelos')\n",
        "ax = fig.add_subplot(111)\n",
        "plt.boxplot(results)\n",
        "ax.set_xticklabels(names)\n",
        "plt.show()"
      ],
      "metadata": {
        "colab": {
          "base_uri": "https://localhost:8080/",
          "height": 1000
        },
        "id": "MV5wPBXO3XpB",
        "outputId": "ee097cdf-4169-4149-b3ab-209384a3869c"
      },
      "execution_count": 35,
      "outputs": [
        {
          "output_type": "stream",
          "name": "stdout",
          "text": [
            "LR: 0.786623 (0.000421)\n",
            "KNN: 0.762303 (0.007030)\n",
            "CART: 0.754387 (0.013707)\n",
            "NB: 0.777856 (0.009147)\n",
            "SVM: 0.786623 (0.000421)\n",
            "Bagging: 0.741096 (0.013579)\n",
            "RF: 0.742369 (0.013864)\n",
            "ET: 0.756084 (0.014948)\n",
            "Ada: 0.785775 (0.002849)\n",
            "GB: 0.786199 (0.003895)\n",
            "Voting: 0.786623 (0.000421)\n"
          ]
        },
        {
          "output_type": "display_data",
          "data": {
            "text/plain": [
              "<Figure size 1500x1000 with 1 Axes>"
            ],
            "image/png": "[encoded data removed]"
          },
          "metadata": {}
        }
      ]
    },
    {
      "cell_type": "markdown",
      "source": [
        "A partir da aplicação dos algoritimos, até o momento, pudemos observar que os que apresentaram o melhor desempenho foram a Regressão Logística (LR), a Máquina de Vetores de Suporte (SVM) e o método de Votação (Voting)."
      ],
      "metadata": {
        "id": "uj4KM2nKyQk1"
      }
    },
    {
      "cell_type": "markdown",
      "source": [
        "### 6.2 Criação e avaliação de modelos: dados padronizados e normalizados"
      ],
      "metadata": {
        "id": "2PYJkdFjvezu"
      }
    },
    {
      "cell_type": "markdown",
      "source": [
        "As duas principais técnicas para redimensionar dados numéricos antes da modelagem são a Normalização e a Padronização. A normalização dimensiona cada atributo separadamente entre 0 e 1, enquanto a padronização dimensiona cada atributo separadamente subtraindo a média e dividindo pelo desvio padrão, transformando sua distribuição em uma distribuição normal padrão com média 0 e desvio padrão 1.\n",
        "\n",
        "Para auxiliar nessa tarefa e evitar a ocorrência de data leakage, a biblioteca scikit-learn nos fornece um recurso conhecido como pipeline para ajudar a automatizar os fluxos de trabalho de machine learning. De forma resumida, os pipelines permitem que uma sequência linear de operações de preparação de dados seja encadeada com o treinamento do modelo, permitindo que este seja avaliado em seguida. O objetivo é garantir que todas as etapas do pipeline sejam restritas ao conjunto de dados apropriado (como o conjunto de treino do holdout ou cada fold do procedimento de validação cruzada), permitindo obter uma estimativa justa do desempenho do modelo com dados não vistos.\n",
        "\n",
        "É importante ressaltar que o pipeline de modelagem, incluindo a preparação de dados e o treinamento do modelo, deve ser executado apenas no conjunto de treinamento para evitar o vazamento de dados. Ao avaliar o desempenho do modelo, as etapas do pipeline de treinamento devem ser replicadas no conjunto de teste, utilizando os parâmetros obtidos no conjunto de treinamento. Isso garante uma estimativa justa do desempenho do modelo em dados não vistos.\n",
        "\n"
      ],
      "metadata": {
        "id": "KnNkw-V1vU8_"
      }
    },
    {
      "cell_type": "code",
      "source": [
        "np.random.seed(7) # definindo uma semente global para este bloco\n",
        "\n",
        "# Listas para armazenar os armazenar os pipelines e os resultados para todas as visões do dataset\n",
        "pipelines = []\n",
        "results = []\n",
        "names = []\n",
        "\n",
        "# Criando os elementos do pipeline\n",
        "\n",
        "# Algoritmos que serão utilizados\n",
        "reg_log = ('LR', LogisticRegression(max_iter=200))\n",
        "knn = ('KNN', KNeighborsClassifier())\n",
        "cart = ('CART', DecisionTreeClassifier())\n",
        "naive_bayes = ('NB', GaussianNB())\n",
        "svm = ('SVM', SVC())\n",
        "bagging = ('Bag', BaggingClassifier(base_estimator=base, n_estimators=num_trees))\n",
        "random_forest = ('RF', RandomForestClassifier(n_estimators=num_trees, max_features=max_features))\n",
        "extra_trees = ('ET', ExtraTreesClassifier(n_estimators=num_trees, max_features=max_features))\n",
        "adaboost = ('Ada', AdaBoostClassifier(n_estimators=num_trees))\n",
        "gradient_boosting = ('GB', GradientBoostingClassifier(n_estimators=num_trees))\n",
        "voting = ('Voting', VotingClassifier(bases))\n",
        "\n",
        "# Transformações que serão utilizadas\n",
        "standard_scaler = ('StandardScaler', StandardScaler())\n",
        "min_max_scaler = ('MinMaxScaler', MinMaxScaler())\n",
        "\n",
        "\n",
        "# Montando os pipelines\n",
        "\n",
        "# Dataset original\n",
        "pipelines.append(('LR-orig', Pipeline([reg_log])))\n",
        "pipelines.append(('KNN-orig', Pipeline([knn])))\n",
        "pipelines.append(('CART-orig', Pipeline([cart])))\n",
        "pipelines.append(('NB-orig', Pipeline([naive_bayes])))\n",
        "pipelines.append(('SVM-orig', Pipeline([svm])))\n",
        "pipelines.append(('Bag-orig', Pipeline([bagging])))\n",
        "pipelines.append(('RF-orig', Pipeline([random_forest])))\n",
        "pipelines.append(('ET-orig', Pipeline([extra_trees])))\n",
        "pipelines.append(('Ada-orig', Pipeline([adaboost])))\n",
        "pipelines.append(('GB-orig', Pipeline([gradient_boosting])))\n",
        "pipelines.append(('Vot-orig', Pipeline([voting])))\n",
        "\n",
        "# Dataset Padronizado\n",
        "pipelines.append(('LR-padr', Pipeline([standard_scaler, reg_log])))\n",
        "pipelines.append(('KNN-padr', Pipeline([standard_scaler, knn])))\n",
        "pipelines.append(('CART-padr', Pipeline([standard_scaler, cart])))\n",
        "pipelines.append(('NB-padr', Pipeline([standard_scaler, naive_bayes])))\n",
        "pipelines.append(('SVM-padr', Pipeline([standard_scaler, svm])))\n",
        "pipelines.append(('Bag-padr', Pipeline([standard_scaler, bagging])))\n",
        "pipelines.append(('RF-padr', Pipeline([standard_scaler, random_forest])))\n",
        "pipelines.append(('ET-padr', Pipeline([standard_scaler, extra_trees])))\n",
        "pipelines.append(('Ada-padr', Pipeline([standard_scaler, adaboost])))\n",
        "pipelines.append(('GB-padr', Pipeline([standard_scaler, gradient_boosting])))\n",
        "pipelines.append(('Vot-padr', Pipeline([standard_scaler, voting])))\n",
        "\n",
        "# Dataset Normalizado\n",
        "pipelines.append(('LR-norm', Pipeline([min_max_scaler, reg_log])))\n",
        "pipelines.append(('KNN-norm', Pipeline([min_max_scaler, knn])))\n",
        "pipelines.append(('CART-norm', Pipeline([min_max_scaler, cart])))\n",
        "pipelines.append(('NB-norm', Pipeline([min_max_scaler, naive_bayes])))\n",
        "pipelines.append(('SVM-norm', Pipeline([min_max_scaler, svm])))\n",
        "pipelines.append(('Bag-norm', Pipeline([min_max_scaler, bagging])))\n",
        "pipelines.append(('RF-norm', Pipeline([min_max_scaler, random_forest])))\n",
        "pipelines.append(('ET-norm', Pipeline([min_max_scaler, extra_trees])))\n",
        "pipelines.append(('Ada-norm', Pipeline([min_max_scaler, adaboost])))\n",
        "pipelines.append(('GB-norm', Pipeline([min_max_scaler, gradient_boosting])))\n",
        "pipelines.append(('Vot-norm', Pipeline([min_max_scaler, voting])))\n",
        "\n",
        "# Executando os pipelines\n",
        "for name, model in pipelines:\n",
        "    cv_results = cross_val_score(model, X_train, y_train, cv=kfold, scoring=scoring)\n",
        "    results.append(cv_results)\n",
        "    names.append(name)\n",
        "    msg = \"%s: %.3f (%.3f)\" % (name, cv_results.mean(), cv_results.std()) # formatando para 3 casas decimais\n",
        "    print(msg)\n",
        "\n",
        "# Boxplot de comparação dos modelos\n",
        "fig = plt.figure(figsize=(25,6))\n",
        "fig.suptitle('Comparação dos Modelos - Dataset orginal, padronizado e normalizado')\n",
        "ax = fig.add_subplot(111)\n",
        "plt.boxplot(results)\n",
        "ax.set_xticklabels(names, rotation=90)\n",
        "plt.show()"
      ],
      "metadata": {
        "id": "VDmkV5JCvpZ3",
        "colab": {
          "base_uri": "https://localhost:8080/",
          "height": 1000
        },
        "outputId": "e6480684-9bf3-4d16-85c3-09085a4d7065"
      },
      "execution_count": 36,
      "outputs": [
        {
          "output_type": "stream",
          "name": "stdout",
          "text": [
            "LR-orig: 0.787 (0.000)\n",
            "KNN-orig: 0.762 (0.007)\n",
            "CART-orig: 0.754 (0.014)\n",
            "NB-orig: 0.778 (0.009)\n",
            "SVM-orig: 0.787 (0.000)\n",
            "Bag-orig: 0.741 (0.014)\n",
            "RF-orig: 0.742 (0.014)\n",
            "ET-orig: 0.756 (0.015)\n",
            "Ada-orig: 0.786 (0.003)\n",
            "GB-orig: 0.786 (0.004)\n",
            "Vot-orig: 0.787 (0.000)\n",
            "LR-padr: 0.784 (0.002)\n",
            "KNN-padr: 0.762 (0.007)\n",
            "CART-padr: 0.754 (0.014)\n",
            "NB-padr: 0.778 (0.009)\n",
            "SVM-padr: 0.787 (0.000)\n",
            "Bag-padr: 0.742 (0.013)\n",
            "RF-padr: 0.741 (0.016)\n",
            "ET-padr: 0.756 (0.014)\n",
            "Ada-padr: 0.786 (0.003)\n",
            "GB-padr: 0.786 (0.004)\n",
            "Vot-padr: 0.786 (0.001)\n",
            "LR-norm: 0.784 (0.002)\n",
            "KNN-norm: 0.762 (0.007)\n",
            "CART-norm: 0.754 (0.014)\n",
            "NB-norm: 0.778 (0.009)\n",
            "SVM-norm: 0.787 (0.000)\n",
            "Bag-norm: 0.742 (0.014)\n",
            "RF-norm: 0.742 (0.015)\n",
            "ET-norm: 0.756 (0.015)\n",
            "Ada-norm: 0.786 (0.003)\n",
            "GB-norm: 0.786 (0.004)\n",
            "Vot-norm: 0.786 (0.001)\n"
          ]
        },
        {
          "output_type": "display_data",
          "data": {
            "text/plain": [
              "<Figure size 2500x600 with 1 Axes>"
            ],
            "image/png": "[encoded data removed]"
          },
          "metadata": {}
        }
      ]
    },
    {
      "cell_type": "markdown",
      "source": [
        "Não foram identificadas variações significativas nos resultados Normalizados ou Padronizados dos dados."
      ],
      "metadata": {
        "id": "9vsUygp0z17s"
      }
    },
    {
      "cell_type": "markdown",
      "source": [
        "### 6.3 Otimização dos hiperparâmetros"
      ],
      "metadata": {
        "id": "wCZ_-gXnv8W4"
      }
    },
    {
      "cell_type": "markdown",
      "source": [
        "Após uma primeira avaliação, os modelos treinados, utilizando diferentes algoritmos de Machine Learning para tratar um determinado problema e analisar os resultados obtidos, faz-se necessario realizar o tuning (ajuste) dos melhores algoritmos utilizados até então. Tendo como objetivo, construir e buscas o melhor modelo possível para o problema apresentado.\n",
        "\n",
        "O tuning envolve a otimização dos hiperparâmetros do modelo, que são parâmetros definidos antes do treinamento e que afetam o desempenho e comportamento do modelo. Ao ajustar esses hiperparâmetros, podemos melhorar a precisão, a eficiência e a capacidade de generalização do modelo.\n",
        "\n",
        "Existem diferentes técnicas para realizar o tuning dos hiperparâmetros, como a busca em grid (grid search), em que são testadas várias combinações de valores para os hiperparâmetros, e a busca aleatória (random search), em que os valores dos hiperparâmetros são selecionados aleatoriamente dentro de um intervalo especificado.\n",
        "\n",
        "O tuning dos modelos permite explorar e otimizar ainda mais o desempenho dos algoritmos de machine learning, ajustando-os de acordo com as características e peculiaridades dos dados e do problema em questão. Dessa forma, buscamos construir o melhor modelo possível, capaz de fornecer resultados mais precisos e confiáveis."
      ],
      "metadata": {
        "id": "c6Ce5Rdlv-Y-"
      }
    },
    {
      "cell_type": "code",
      "source": [
        "# Tuning do LR  (Logistic Regression)\n",
        "\n",
        "# Estimador (Logistic Regression) e os hiperparâmetros a serem ajustados:\n",
        "estimator = LogisticRegression(max_iter=200)\n",
        "parameters = {'C': [1.0, 10.0], 'penalty': ['l1', 'l2']}\n",
        "\n",
        "# 'C' controla a força da regularização e 'penalty' indica o tipo de regularização a ser aplicada\n",
        "#  ('l1' para L1 regularization e 'l2' para L2 regularization).\n",
        "\n",
        "# Busca em grade com validação cruzada:\n",
        "grid_search = GridSearchCV(estimator, parameters, cv=5)\n",
        "grid_search.fit(x, y)\n",
        "\n",
        "# Onde:\n",
        "# x são os atributos/features do conjunto de dados.\n",
        "# y são os rótulos/targets correspondentes aos atributos.\n",
        "\n",
        "# Melhores parâmetros encontrados:\n",
        "best_params = grid_search.best_params_\n",
        "print(\"Melhores parâmetros encontrados:\", best_params)\n",
        "\n",
        "# Melhor modelo treinado:\n",
        "best_model = grid_search.best_estimator_\n"
      ],
      "metadata": {
        "id": "RqQ-HFR4wHCV",
        "colab": {
          "base_uri": "https://localhost:8080/"
        },
        "outputId": "a398d797-cd28-4fba-c38c-090b60239bba"
      },
      "execution_count": 37,
      "outputs": [
        {
          "output_type": "stream",
          "name": "stdout",
          "text": [
            "Melhores parâmetros encontrados: {'C': 1.0, 'penalty': 'l2'}\n"
          ]
        }
      ]
    },
    {
      "cell_type": "markdown",
      "source": [
        "A busca em grade permite explorar combinações diferentes de hiperparâmetros e encotrar os melhores valores para otimizar o desempenho do Regressa Logística (LR)."
      ],
      "metadata": {
        "id": "w5dNiw700fBz"
      }
    },
    {
      "cell_type": "markdown",
      "source": [
        "### Finalização do Modelo"
      ],
      "metadata": {
        "id": "Aj-bChu3wLTm"
      }
    },
    {
      "cell_type": "code",
      "source": [
        "# Avaliação do modelo com o conjunto de testes\n",
        "\n",
        "# Preparação do modelo\n",
        "scaler = StandardScaler().fit(X_train) # ajuste do scaler com o conjunto de treino\n",
        "rescaledX = scaler.transform(X_train) # aplicação da padronização no conjunto de treino\n",
        "model = best_model\n",
        "model.fit(rescaledX, y_train)\n",
        "\n",
        "# Estimativa da acurácia no conjunto de teste\n",
        "rescaledTestX = scaler.transform(X_test) # aplicação da padronização no conjunto de teste\n",
        "predictions = model.predict(rescaledTestX)\n",
        "print(accuracy_score(y_test, predictions))"
      ],
      "metadata": {
        "id": "rI5fb2IDwPW2",
        "colab": {
          "base_uri": "https://localhost:8080/"
        },
        "outputId": "ebb75502-5b19-4eef-ee16-429ff38b4e20"
      },
      "execution_count": 38,
      "outputs": [
        {
          "output_type": "stream",
          "name": "stdout",
          "text": [
            "0.7851893725268513\n"
          ]
        }
      ]
    },
    {
      "cell_type": "markdown",
      "source": [
        "Por meio do conjunto de teste, verificamos que alcançamos acurácia de 78,52% em dados não vistos. Ou seja, sem grande varição em relação a avaliação anterio da regressçao logística.\n",
        "\n",
        "Vamos agora preparar o modelo para utilização em produção. Para isso, vamos treiná-lo com todo o dataset, e não apenas o conjunto de treino."
      ],
      "metadata": {
        "id": "y--xzMUDwS-W"
      }
    },
    {
      "cell_type": "code",
      "source": [
        "# Preparação do modelo com TODO o dataset\n",
        "scaler = StandardScaler().fit(x) # ajuste do scaler com TODO o dataset\n",
        "rescaledX = scaler.transform(x) # aplicação da padronização com TODO o dataset\n",
        "model.fit(rescaledX, y)"
      ],
      "metadata": {
        "id": "IIqyLCxUwkpT",
        "colab": {
          "base_uri": "https://localhost:8080/",
          "height": 74
        },
        "outputId": "a626c111-bacc-4587-d010-cca5771bef0b"
      },
      "execution_count": 39,
      "outputs": [
        {
          "output_type": "execute_result",
          "data": {
            "text/plain": [
              "LogisticRegression(max_iter=200)"
            ],
            "text/html": [
              "<style>#sk-container-id-1 {color: black;background-color: white;}#sk-container-id-1 pre{padding: 0;}#sk-container-id-1 div.sk-toggleable {background-color: white;}#sk-container-id-1 label.sk-toggleable__label {cursor: pointer;display: block;width: 100%;margin-bottom: 0;padding: 0.3em;box-sizing: border-box;text-align: center;}#sk-container-id-1 label.sk-toggleable__label-arrow:before {content: \"▸\";float: left;margin-right: 0.25em;color: #696969;}#sk-container-id-1 label.sk-toggleable__label-arrow:hover:before {color: black;}#sk-container-id-1 div.sk-estimator:hover label.sk-toggleable__label-arrow:before {color: black;}#sk-container-id-1 div.sk-toggleable__content {max-height: 0;max-width: 0;overflow: hidden;text-align: left;background-color: #f0f8ff;}#sk-container-id-1 div.sk-toggleable__content pre {margin: 0.2em;color: black;border-radius: 0.25em;background-color: #f0f8ff;}#sk-container-id-1 input.sk-toggleable__control:checked~div.sk-toggleable__content {max-height: 200px;max-width: 100%;overflow: auto;}#sk-container-id-1 input.sk-toggleable__control:checked~label.sk-toggleable__label-arrow:before {content: \"▾\";}#sk-container-id-1 div.sk-estimator input.sk-toggleable__control:checked~label.sk-toggleable__label {background-color: #d4ebff;}#sk-container-id-1 div.sk-label input.sk-toggleable__control:checked~label.sk-toggleable__label {background-color: #d4ebff;}#sk-container-id-1 input.sk-hidden--visually {border: 0;clip: rect(1px 1px 1px 1px);clip: rect(1px, 1px, 1px, 1px);height: 1px;margin: -1px;overflow: hidden;padding: 0;position: absolute;width: 1px;}#sk-container-id-1 div.sk-estimator {font-family: monospace;background-color: #f0f8ff;border: 1px dotted black;border-radius: 0.25em;box-sizing: border-box;margin-bottom: 0.5em;}#sk-container-id-1 div.sk-estimator:hover {background-color: #d4ebff;}#sk-container-id-1 div.sk-parallel-item::after {content: \"\";width: 100%;border-bottom: 1px solid gray;flex-grow: 1;}#sk-container-id-1 div.sk-label:hover label.sk-toggleable__label {background-color: #d4ebff;}#sk-container-id-1 div.sk-serial::before {content: \"\";position: absolute;border-left: 1px solid gray;box-sizing: border-box;top: 0;bottom: 0;left: 50%;z-index: 0;}#sk-container-id-1 div.sk-serial {display: flex;flex-direction: column;align-items: center;background-color: white;padding-right: 0.2em;padding-left: 0.2em;position: relative;}#sk-container-id-1 div.sk-item {position: relative;z-index: 1;}#sk-container-id-1 div.sk-parallel {display: flex;align-items: stretch;justify-content: center;background-color: white;position: relative;}#sk-container-id-1 div.sk-item::before, #sk-container-id-1 div.sk-parallel-item::before {content: \"\";position: absolute;border-left: 1px solid gray;box-sizing: border-box;top: 0;bottom: 0;left: 50%;z-index: -1;}#sk-container-id-1 div.sk-parallel-item {display: flex;flex-direction: column;z-index: 1;position: relative;background-color: white;}#sk-container-id-1 div.sk-parallel-item:first-child::after {align-self: flex-end;width: 50%;}#sk-container-id-1 div.sk-parallel-item:last-child::after {align-self: flex-start;width: 50%;}#sk-container-id-1 div.sk-parallel-item:only-child::after {width: 0;}#sk-container-id-1 div.sk-dashed-wrapped {border: 1px dashed gray;margin: 0 0.4em 0.5em 0.4em;box-sizing: border-box;padding-bottom: 0.4em;background-color: white;}#sk-container-id-1 div.sk-label label {font-family: monospace;font-weight: bold;display: inline-block;line-height: 1.2em;}#sk-container-id-1 div.sk-label-container {text-align: center;}#sk-container-id-1 div.sk-container {/* jupyter's `normalize.less` sets `[hidden] { display: none; }` but bootstrap.min.css set `[hidden] { display: none !important; }` so we also need the `!important` here to be able to override the default hidden behavior on the sphinx rendered scikit-learn.org. See: https://github.com/scikit-learn/scikit-learn/issues/21755 */display: inline-block !important;position: relative;}#sk-container-id-1 div.sk-text-repr-fallback {display: none;}</style><div id=\"sk-container-id-1\" class=\"sk-top-container\"><div class=\"sk-text-repr-fallback\"><pre>LogisticRegression(max_iter=200)</pre><b>In a Jupyter environment, please rerun this cell to show the HTML representation or trust the notebook. <br />On GitHub, the HTML representation is unable to render, please try loading this page with nbviewer.org.</b></div><div class=\"sk-container\" hidden><div class=\"sk-item\"><div class=\"sk-estimator sk-toggleable\"><input class=\"sk-toggleable__control sk-hidden--visually\" id=\"sk-estimator-id-1\" type=\"checkbox\" checked><label for=\"sk-estimator-id-1\" class=\"sk-toggleable__label sk-toggleable__label-arrow\">LogisticRegression</label><div class=\"sk-toggleable__content\"><pre>LogisticRegression(max_iter=200)</pre></div></div></div></div></div>"
            ]
          },
          "metadata": {},
          "execution_count": 39
        }
      ]
    }
  ]
}